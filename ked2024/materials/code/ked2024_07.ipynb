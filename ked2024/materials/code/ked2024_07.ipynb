{
 "cells": [
  {
   "attachments": {},
   "cell_type": "markdown",
   "metadata": {
    "editable": true,
    "slideshow": {
     "slide_type": "slide"
    },
    "tags": []
   },
   "source": [
    "<section id=\"title-slide\">\n",
    "  <h1 class=\"title\">The ABC of Computational Text Analysis</h1>\n",
    "  <h2 class=\"subtitle\">#7 Working with (your own) Data</h2>\n",
    "  <p class=\"author\">Alex Flückiger</p><p class=\"date\">11 April 2024</p>\n",
    "</section>"
   ]
  },
  {
   "cell_type": "markdown",
   "metadata": {
    "editable": true,
    "slideshow": {
     "slide_type": "slide"
    },
    "tags": []
   },
   "source": [
    "## Game Plan for today's coding\n",
    "Extend the Python basics before extracting text from PDFs!"
   ]
  },
  {
   "cell_type": "markdown",
   "metadata": {
    "editable": true,
    "slideshow": {
     "slide_type": "slide"
    },
    "tags": []
   },
   "source": [
    "## Update the course material\n",
    "1. Navigate to the course folde using `cd` in your command line\n",
    "2. Update the files with `git pull`\n",
    "3. If `git pull` doesn't work due to file conflicts, run `git restore .` first\n",
    "\n",
    "## Getting started \n",
    "1. Open VS Code\n",
    "2. Windows: Make sure that you are connected to WSL (green-badge in left-lower corner)\n",
    "3. Open the `KED2024` folder via the menu: `File` > `Open Folder`\n",
    "4. Navigate to `KED2024/ked2024/materials/code/KED2024_07.ipynb` and open with double-click\n",
    "5. Run the code with `Run all` via the top menu"
   ]
  },
  {
   "cell_type": "markdown",
   "metadata": {
    "editable": true,
    "slideshow": {
     "slide_type": "slide"
    },
    "tags": []
   },
   "source": [
    "## Best Practices\n",
    "- Check the values of variables in the `Variable Explorer`\n",
    "- Use `tab` for auto-completion"
   ]
  },
  {
   "attachments": {},
   "cell_type": "markdown",
   "metadata": {
    "editable": true,
    "slideshow": {
     "slide_type": "slide"
    },
    "tags": []
   },
   "source": [
    "## Working with texts\n",
    "Texts are represented as strings of any length.\n"
   ]
  },
  {
   "cell_type": "code",
   "execution_count": null,
   "metadata": {
    "editable": true,
    "slideshow": {
     "slide_type": ""
    },
    "tags": []
   },
   "outputs": [],
   "source": [
    "sentence_1 = \"I love NLP and social science.\"\n",
    "sentence_2 = \"Computational Social Science applies NLP to social questions.\"\n",
    "\n",
    "text = sentence_1 + \" \" + sentence_2\n",
    "text"
   ]
  },
  {
   "cell_type": "markdown",
   "metadata": {
    "editable": true,
    "slideshow": {
     "slide_type": "slide"
    },
    "tags": []
   },
   "source": [
    "## Modify text"
   ]
  },
  {
   "cell_type": "code",
   "execution_count": null,
   "metadata": {
    "editable": true,
    "slideshow": {
     "slide_type": ""
    },
    "tags": []
   },
   "outputs": [],
   "source": [
    "# replace `.` with `!`\n",
    "text_modified = text.replace(\".\", \"!\")\n",
    "\n",
    "# change text to lowercased letters\n",
    "text_modified = text.lower()\n",
    "\n",
    "# split text at space, yields words as list\n",
    "text_modified = text.split(\" \")\n",
    "text_modified\n"
   ]
  },
  {
   "cell_type": "markdown",
   "metadata": {
    "editable": true,
    "slideshow": {
     "slide_type": "slide"
    },
    "tags": []
   },
   "source": [
    "## Count words"
   ]
  },
  {
   "cell_type": "code",
   "execution_count": null,
   "metadata": {
    "editable": true,
    "slideshow": {
     "slide_type": ""
    },
    "tags": []
   },
   "outputs": [],
   "source": [
    "from collections import Counter\n",
    "\n",
    "# initialize a counter object\n",
    "counter = Counter()\n",
    "\n",
    "# split the text and pass all elements (~words) to the counter\n",
    "counter.update(text.split(\" \"))\n",
    "\n",
    "# get the three most common words\n",
    "counter.most_common(3)\n"
   ]
  },
  {
   "attachments": {},
   "cell_type": "markdown",
   "metadata": {
    "editable": true,
    "slideshow": {
     "slide_type": "slide"
    },
    "tags": []
   },
   "source": [
    "## Read from a textfile"
   ]
  },
  {
   "cell_type": "code",
   "execution_count": null,
   "metadata": {
    "editable": true,
    "slideshow": {
     "slide_type": ""
    },
    "tags": []
   },
   "outputs": [],
   "source": [
    "from pathlib import Path\n",
    "\n",
    "# define the path to the file\n",
    "infile = Path(\"../data/swiss_party_programmes/txt/gruene_programmes/gruene_programme_2019.txt\")\n",
    "\n",
    "# read the file\n",
    "text = infile.read_text()\n",
    "\n",
    "# show first 100 characters of file \n",
    "print(text[0:100])\n"
   ]
  },
  {
   "attachments": {},
   "cell_type": "markdown",
   "metadata": {
    "editable": true,
    "slideshow": {
     "slide_type": "slide"
    },
    "tags": []
   },
   "source": [
    "## Write into a textfile"
   ]
  },
  {
   "cell_type": "code",
   "execution_count": null,
   "metadata": {
    "editable": true,
    "slideshow": {
     "slide_type": ""
    },
    "tags": []
   },
   "outputs": [],
   "source": [
    "import re\n",
    "\n",
    "# lowercase the text\n",
    "text = text.lower()\n",
    "\n",
    "# replace repeated newlines with a single newline\n",
    "text = re.sub(r\"\\n+\", \"\\n\", text)\n",
    "\n",
    "# write content to file\n",
    "outfile = Path(\"../data/swiss_party_programmes/txt/gruene_programmes/gruene_programme_2019_lowercased.txt\")\n",
    "\n",
    "# write to file\n",
    "with outfile.open(\"w\") as f:\n",
    "    f.write(text)\n"
   ]
  },
  {
   "attachments": {},
   "cell_type": "markdown",
   "metadata": {
    "editable": true,
    "slideshow": {
     "slide_type": "slide"
    },
    "tags": []
   },
   "source": [
    "## Counting words in a textfile"
   ]
  },
  {
   "cell_type": "code",
   "execution_count": null,
   "metadata": {
    "editable": true,
    "slideshow": {
     "slide_type": ""
    },
    "tags": []
   },
   "outputs": [],
   "source": [
    "from pathlib import Path\n",
    "from collections import Counter\n",
    "\n",
    "infile = Path(\"../data/swiss_party_programmes/txt/gruene_programmes/gruene_programme_2019.txt\")\n",
    "text = infile.read_text()\n",
    "\n",
    "# lowercase all text\n",
    "text = text.lower()\n",
    "\n",
    "# extract alphanumeric words without punctuation\n",
    "words = re.findall(r\"\\w+\", text)\n",
    "\n",
    "# count words\n",
    "vocab = Counter(words)\n",
    "\n",
    "# write to file, one word and its frequency per line\n",
    "outfile = Path(\"../analysis/gruene_programme_vocab_frq.tsv\")\n",
    "with outfile.open(\"w\") as f:\n",
    "    for word, frq in vocab.most_common():\n",
    "        line = f\"{word}\\t{frq}\\n\"\n",
    "        f.write(line)\n",
    "\n",
    "vocab.most_common(5)\n"
   ]
  },
  {
   "attachments": {},
   "cell_type": "markdown",
   "metadata": {
    "editable": true,
    "slideshow": {
     "slide_type": "slide"
    },
    "tags": []
   },
   "source": [
    "## PDF: Digitized or digital?\n",
    "\n",
    "### Two flavours of PDF documents\n",
    "![Digitalized PDF made from a scanned page](../../lectures/images/pdf_scan.png)\n",
    "![Native PDF converted from digital document (e.g., docx)](../../lectures/images/pdf_digital.png)"
   ]
  },
  {
   "cell_type": "markdown",
   "metadata": {
    "editable": true,
    "slideshow": {
     "slide_type": "slide"
    },
    "tags": []
   },
   "source": [
    "## Conversion of a single native PDF\n",
    "\n",
    "### Use case: [Swiss party programmes](https://visuals.manifesto-project.wzb.eu/mpdb-shiny/cmp_dashboard_dataset/)\n"
   ]
  },
  {
   "cell_type": "code",
   "execution_count": null,
   "metadata": {
    "editable": true,
    "slideshow": {
     "slide_type": ""
    },
    "tags": []
   },
   "outputs": [],
   "source": [
    "from pypdf import PdfReader\n",
    "\n",
    "pdf_path = Path(\"../data/swiss_party_programmes/pdf/gruene_programmes/gruene_programme_2019.pdf\")\n",
    "\n",
    "# set up PDF reader\n",
    "reader = PdfReader(pdf_path)\n",
    "\n",
    "text = \"\"\n",
    "\n",
    "# iterate over pages\n",
    "for page in reader.pages:\n",
    "    text_page = page.extract_text()\n",
    "    \n",
    "    # clean up repeated empty lines\n",
    "    text_page = re.sub(r\"\\n\\s*\\n\", \"\\n\", text_page)\n",
    "\n",
    "    # add text of page to text of document\n",
    "    text += \" \" + text_page\n",
    "\n",
    "print(text[:500])\n"
   ]
  },
  {
   "attachments": {},
   "cell_type": "markdown",
   "metadata": {
    "editable": true,
    "slideshow": {
     "slide_type": "slide"
    },
    "tags": []
   },
   "source": [
    "## Optical Character Recognition (OCR)\n",
    "\n",
    "\n",
    "- OCR ~ convert images into text\n",
    "  - extract text from scans/images\n",
    "- `tesseract` performs OCR\n",
    "  - language-specific models\n",
    "  - supports handwriting + Fraktur texts\n",
    "- image quality is crucial"
   ]
  },
  {
   "cell_type": "markdown",
   "metadata": {
    "editable": true,
    "slideshow": {
     "slide_type": ""
    },
    "tags": []
   },
   "source": [
    "<img src=\"../../lectures/images/ocr.png\" alt=\"Steps when performing OCR\" style=\"width: 500px;\"/>"
   ]
  },
  {
   "attachments": {},
   "cell_type": "markdown",
   "metadata": {
    "editable": true,
    "slideshow": {
     "slide_type": "slide"
    },
    "tags": []
   },
   "source": [
    "## Conversion of a single digitized PDF\n",
    "\n",
    "### use-case: [historical party programmes](https://visuals.manifesto-project.wzb.eu/mpdb-shiny/cmp_dashboard_dataset/)\n",
    "\n",
    "1. extract image from PDF\n",
    "2. run optical character recognition (OCR) on the image"
   ]
  },
  {
   "cell_type": "code",
   "execution_count": 1,
   "metadata": {
    "editable": true,
    "slideshow": {
     "slide_type": ""
    },
    "tags": []
   },
   "outputs": [
    {
     "ename": "NameError",
     "evalue": "name 'Path' is not defined",
     "output_type": "error",
     "traceback": [
      "\u001b[0;31m---------------------------------------------------------------------------\u001b[0m",
      "\u001b[0;31mNameError\u001b[0m                                 Traceback (most recent call last)",
      "Cell \u001b[0;32mIn[1], line 5\u001b[0m\n\u001b[1;32m      2\u001b[0m \u001b[38;5;28;01mfrom\u001b[39;00m \u001b[38;5;21;01mpdf2image\u001b[39;00m \u001b[38;5;28;01mimport\u001b[39;00m convert_from_path\n\u001b[1;32m      4\u001b[0m \u001b[38;5;66;03m# path to PDF file\u001b[39;00m\n\u001b[0;32m----> 5\u001b[0m pdf_path \u001b[38;5;241m=\u001b[39m \u001b[43mPath\u001b[49m(\u001b[38;5;124m\"\u001b[39m\u001b[38;5;124m../data/scanned_pdf_sample/fdp_scan_party_programme_1947.pdf\u001b[39m\u001b[38;5;124m\"\u001b[39m)\n\u001b[1;32m      7\u001b[0m \u001b[38;5;66;03m# convert PDF to images (one image per page)\u001b[39;00m\n\u001b[1;32m      8\u001b[0m pages \u001b[38;5;241m=\u001b[39m convert_from_path(pdf_path, fmt\u001b[38;5;241m=\u001b[39m\u001b[38;5;124m\"\u001b[39m\u001b[38;5;124mpng\u001b[39m\u001b[38;5;124m\"\u001b[39m)\n",
      "\u001b[0;31mNameError\u001b[0m: name 'Path' is not defined"
     ]
    }
   ],
   "source": [
    "import pytesseract\n",
    "from pdf2image import convert_from_path\n",
    "\n",
    "# path to PDF file\n",
    "pdf_path = Path(\"../data/scanned_pdf_sample/fdp_scan_party_programme_1947.pdf\")\n",
    "\n",
    "# convert PDF to images (one image per page)\n",
    "pages = convert_from_path(pdf_path, fmt=\"png\")\n",
    "\n",
    "# initialize text to collect the text per page\n",
    "text = \"\"\n",
    "\n",
    "# iterate over pages\n",
    "for pageNum,imgBlob in enumerate(pages):\n",
    "    # extract text from image per page\n",
    "    text_page = pytesseract.image_to_string(imgBlob, lang='deu')\n",
    "\n",
    "    # append text for each page\n",
    "    text += \" \" + text_page\n",
    "\n",
    "print(text[:100])"
   ]
  },
  {
   "cell_type": "markdown",
   "metadata": {
    "editable": true,
    "slideshow": {
     "slide_type": "slide"
    },
    "tags": []
   },
   "source": [
    "## Extract the text from all PDFs in a folder"
   ]
  },
  {
   "cell_type": "code",
   "execution_count": null,
   "metadata": {
    "editable": true,
    "slideshow": {
     "slide_type": ""
    },
    "tags": []
   },
   "outputs": [],
   "source": [
    "# path to PDF directory\n",
    "indir = Path(\"../data/scanned_pdf_sample/\")\n",
    "outdir = Path(\"../data/scanned_pdf_sample/extracted\")\n",
    "\n",
    "# create output folder if it does not exist\n",
    "outdir.mkdir(parents=True, exist_ok=True)\n",
    "\n",
    "# iterate over all PDFs in input folder\n",
    "for infile in indir.glob(pattern=\"*.pdf\"):\n",
    "    print(f\"Reading PDF file: {infile}\")\n",
    "    \n",
    "    pages = convert_from_path(infile, fmt=\"png\")\n",
    "    text = \"\"\n",
    "    \n",
    "    for pageNum,imgBlob in enumerate(pages):\n",
    "        text_page = pytesseract.image_to_string(imgBlob, lang='deu')\n",
    "        text += \" \" + text_page\n",
    "\n",
    "    # define name of outfile (name.pdf -> name.txt)\n",
    "    outfile = outdir / (infile.stem + \".txt\")\n",
    "\n",
    "    # write content to file\n",
    "    with outfile.open(\"w\") as f:\n",
    "        f.write(text)\n",
    "    \n",
    "    print(f\"Extracted text to: {outfile}\")"
   ]
  },
  {
   "cell_type": "markdown",
   "metadata": {
    "editable": true,
    "slideshow": {
     "slide_type": "slide"
    },
    "tags": []
   },
   "source": [
    "## Bonus: Clean up artifacts"
   ]
  },
  {
   "cell_type": "markdown",
   "metadata": {
    "editable": true,
    "slideshow": {
     "slide_type": ""
    },
    "tags": []
   },
   "source": [
    "- remove empty lines\n",
    "- remove page numbers\n",
    "- remove footer\n",
    "- merge hyphenated words"
   ]
  },
  {
   "cell_type": "markdown",
   "metadata": {
    "editable": true,
    "slideshow": {
     "slide_type": "slide"
    },
    "tags": []
   },
   "source": [
    "## Remove parts across lines"
   ]
  },
  {
   "cell_type": "code",
   "execution_count": null,
   "metadata": {
    "editable": true,
    "slideshow": {
     "slide_type": ""
    },
    "tags": []
   },
   "outputs": [],
   "source": [
    "# Remove multiple lines in a string using regular expressions\n",
    "\n",
    "import re\n",
    "\n",
    "text = \"\"\"\n",
    "This is an example Text.\n",
    "\n",
    "YOUR_PATTERN REMOVE THIS\n",
    "whatever is written here\n",
    "UNTIL HERE.\n",
    "\n",
    "Keep this and the following.\n",
    "\"\"\"\n",
    "\n",
    "# remove a multiline string by substituting the match with an empty string\n",
    "# re.DOTALL makes the . matching the newline character \\n\n",
    "text_clean = re.sub(\"YOUR_PATTERN.*UNTIL HERE.\", \"\", text, flags=re.DOTALL)\n",
    "\n",
    "print(text_clean)"
   ]
  },
  {
   "cell_type": "markdown",
   "metadata": {
    "slideshow": {
     "slide_type": "slide"
    }
   },
   "source": [
    "## In-class: Exercises I\n",
    "\n",
    "1. Go to [swissinfo.ch](swissinfo.ch), copy the content of a random article, and save it as `.txt` file.\n",
    "2. Read this file with Python, count its vocabulary and write all the word counts into a `.tsv` file.\n",
    "3. Open the `.tsv` file in a spreadsheet programm and compute the relative frequency of each word."
   ]
  }
 ],
 "metadata": {
  "celltoolbar": "Slideshow",
  "kernelspec": {
   "display_name": ".venv",
   "language": "python",
   "name": "python3"
  },
  "language_info": {
   "codemirror_mode": {
    "name": "ipython",
    "version": 3
   },
   "file_extension": ".py",
   "mimetype": "text/x-python",
   "name": "python",
   "nbconvert_exporter": "python",
   "pygments_lexer": "ipython3",
   "version": "3.11.8"
  },
  "rise": {
   "enable_chalkboard": true
  }
 },
 "nbformat": 4,
 "nbformat_minor": 4
}
