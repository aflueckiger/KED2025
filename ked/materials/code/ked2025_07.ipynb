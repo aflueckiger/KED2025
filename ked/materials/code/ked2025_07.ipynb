{
 "cells": [
  {
   "cell_type": "markdown",
   "metadata": {
    "editable": true,
    "slideshow": {
     "slide_type": "slide"
    },
    "tags": []
   },
   "source": [
    "<section id=\"title-slide\">\n",
    "  <h1 class=\"title\">The ABC of Computational Text Analysis</h1>\n",
    "  <h2 class=\"subtitle\">#7 Working with (your own) Data</h2>\n",
    "  <p class=\"author\">Alex Flückiger</p><p class=\"date\">10 April 2025</p>\n",
    "</section>"
   ]
  },
  {
   "cell_type": "markdown",
   "metadata": {
    "editable": true,
    "slideshow": {
     "slide_type": "slide"
    },
    "tags": []
   },
   "source": [
    "## Game Plan for today's coding\n",
    "Extend the Python basics before extracting text from PDFs!"
   ]
  },
  {
   "cell_type": "markdown",
   "metadata": {
    "editable": true,
    "slideshow": {
     "slide_type": "slide"
    },
    "tags": []
   },
   "source": [
    "## Update the course material\n",
    "1. Navigate to the course folder `KED2025` using `cd` in your command line\n",
    "2. Update the files with `git pull`\n",
    "3. If `git pull` doesn't work due to file conflicts, run `git restore .` first\n",
    "\n",
    "## Getting started \n",
    "1. Open VS Code\n",
    "2. Windows: Make sure that you are connected to WSL (blue-badge in left-lower corner)\n",
    "3. Open the `KED2025` folder via the menu: `File` > `Open Folder`\n",
    "4. Navigate to `KED2025/ked/materials/code/KED2025_07.ipynb` and open with double-click\n",
    "5. Run the code with `Run all` via the top menu"
   ]
  },
  {
   "cell_type": "markdown",
   "metadata": {
    "editable": true,
    "slideshow": {
     "slide_type": "slide"
    },
    "tags": []
   },
   "source": [
    "## Best Practices\n",
    "- Check the values of variables in the `Variable Explorer`\n",
    "- Use `tab` for auto-completion"
   ]
  },
  {
   "cell_type": "markdown",
   "metadata": {
    "editable": true,
    "slideshow": {
     "slide_type": "slide"
    },
    "tags": []
   },
   "source": [
    "## Working with texts\n",
    "Texts are represented as strings of any length.\n"
   ]
  },
  {
   "cell_type": "code",
   "execution_count": 36,
   "metadata": {
    "editable": true,
    "slideshow": {
     "slide_type": ""
    },
    "tags": []
   },
   "outputs": [
    {
     "data": {
      "text/plain": [
       "'I love NLP and social science. Computational Social Science applies NLP to social questions.'"
      ]
     },
     "execution_count": 36,
     "metadata": {},
     "output_type": "execute_result"
    }
   ],
   "source": [
    "sentence_1 = \"I love NLP and social science.\"\n",
    "sentence_2 = \"Computational Social Science applies NLP to social questions.\"\n",
    "\n",
    "text = sentence_1 + \" \" + sentence_2\n",
    "text"
   ]
  },
  {
   "cell_type": "markdown",
   "metadata": {
    "editable": true,
    "slideshow": {
     "slide_type": "slide"
    },
    "tags": []
   },
   "source": [
    "## Modify text"
   ]
  },
  {
   "cell_type": "code",
   "execution_count": 37,
   "metadata": {
    "editable": true,
    "slideshow": {
     "slide_type": ""
    },
    "tags": []
   },
   "outputs": [
    {
     "data": {
      "text/plain": [
       "['i',\n",
       " 'love',\n",
       " 'nlp',\n",
       " 'and',\n",
       " 'social',\n",
       " 'science!',\n",
       " 'computational',\n",
       " 'social',\n",
       " 'science',\n",
       " 'applies',\n",
       " 'nlp',\n",
       " 'to',\n",
       " 'social',\n",
       " 'questions!']"
      ]
     },
     "execution_count": 37,
     "metadata": {},
     "output_type": "execute_result"
    }
   ],
   "source": [
    "# replace `.` with `!`\n",
    "text_modified = text.replace(\".\", \"!\")\n",
    "\n",
    "# change text to lowercased letters\n",
    "text_modified = text_modified.lower()\n",
    "\n",
    "# split text at space, yields words as list\n",
    "text_modified = text_modified.split(\" \")\n",
    "text_modified\n"
   ]
  },
  {
   "cell_type": "markdown",
   "metadata": {
    "editable": true,
    "slideshow": {
     "slide_type": "slide"
    },
    "tags": []
   },
   "source": [
    "## Count words"
   ]
  },
  {
   "cell_type": "code",
   "execution_count": 38,
   "metadata": {
    "editable": true,
    "slideshow": {
     "slide_type": ""
    },
    "tags": []
   },
   "outputs": [
    {
     "data": {
      "text/plain": [
       "[('NLP', 2), ('social', 2), ('I', 1), ('love', 1), ('and', 1)]"
      ]
     },
     "execution_count": 38,
     "metadata": {},
     "output_type": "execute_result"
    }
   ],
   "source": [
    "from collections import Counter\n",
    "\n",
    "# initialize a counter object\n",
    "counter = Counter()\n",
    "\n",
    "# split the text and pass all elements (~words) to the counter\n",
    "counter.update(text.split(\" \"))\n",
    "\n",
    "# get the three most common words\n",
    "counter.most_common(5)\n"
   ]
  },
  {
   "cell_type": "markdown",
   "metadata": {
    "editable": true,
    "slideshow": {
     "slide_type": "slide"
    },
    "tags": []
   },
   "source": [
    "## Read from a textfile"
   ]
  },
  {
   "cell_type": "code",
   "execution_count": 39,
   "metadata": {
    "editable": true,
    "slideshow": {
     "slide_type": ""
    },
    "tags": []
   },
   "outputs": [
    {
     "name": "stdout",
     "output_type": "stream",
     "text": [
      "IMPRESSUM\n",
      "GRÜNE Schweiz\n",
      "Waisenhausplatz 21\n",
      "3011 Bern\n",
      "Tel. 031 326 66 00\n",
      "www.gruene.ch\n",
      "gruene@gruene.ch\n",
      "Postkonto 80-26747-3\n",
      "Wahlplattform 2019 – 2023\n",
      "Beschlossen an der\n",
      "Delegiertenversammlung vom 12. \n"
     ]
    }
   ],
   "source": [
    "from pathlib import Path\n",
    "\n",
    "# define the path to the file\n",
    "infile = Path(\"../data/swiss_party_programmes/txt/gruene_programmes/gruene_programme_2019.txt\")\n",
    "\n",
    "# read the file\n",
    "text = infile.read_text()\n",
    "\n",
    "# show first 100 characters of file \n",
    "print(text[0:200])\n"
   ]
  },
  {
   "cell_type": "markdown",
   "metadata": {
    "editable": true,
    "slideshow": {
     "slide_type": "slide"
    },
    "tags": []
   },
   "source": [
    "## Write into a textfile"
   ]
  },
  {
   "cell_type": "code",
   "execution_count": 40,
   "metadata": {
    "editable": true,
    "slideshow": {
     "slide_type": ""
    },
    "tags": []
   },
   "outputs": [],
   "source": [
    "import re\n",
    "\n",
    "# lowercase the text\n",
    "text = text.lower()\n",
    "\n",
    "# replace repeated newlines with a single newline\n",
    "text = re.sub(r\"\\n+\", \"\\n\", text)\n",
    "\n",
    "# write content to file\n",
    "outfile = Path(\"../data/swiss_party_programmes/txt/gruene_programmes/gruene_programme_2019_lowercased.txt\")\n",
    "\n",
    "# write to file\n",
    "with outfile.open(\"w\") as f:\n",
    "    f.write(text)\n"
   ]
  },
  {
   "cell_type": "markdown",
   "metadata": {
    "editable": true,
    "slideshow": {
     "slide_type": "slide"
    },
    "tags": []
   },
   "source": [
    "## Counting words in a textfile"
   ]
  },
  {
   "cell_type": "code",
   "execution_count": 41,
   "metadata": {
    "editable": true,
    "slideshow": {
     "slide_type": ""
    },
    "tags": []
   },
   "outputs": [
    {
     "data": {
      "text/plain": [
       "[('und', 595), ('die', 517), ('der', 394), ('für', 217), ('in', 161)]"
      ]
     },
     "execution_count": 41,
     "metadata": {},
     "output_type": "execute_result"
    }
   ],
   "source": [
    "from pathlib import Path\n",
    "from collections import Counter\n",
    "\n",
    "infile = Path(\"../data/swiss_party_programmes/txt/gruene_programmes/gruene_programme_2019.txt\")\n",
    "text = infile.read_text()\n",
    "\n",
    "# lowercase all text\n",
    "text = text.lower()\n",
    "\n",
    "# extract alphanumeric words without punctuation\n",
    "words = re.findall(r\"\\w+\", text)\n",
    "\n",
    "# count words\n",
    "vocab = Counter(words)\n",
    "\n",
    "# write to file, one word and its frequency per line\n",
    "outfile = Path(\"../analysis/gruene_programme_vocab_frq.tsv\")\n",
    "with outfile.open(\"w\") as f:\n",
    "    for word, frq in vocab.most_common():\n",
    "        line = f\"{word}\\t{frq}\\n\"\n",
    "        f.write(line)\n",
    "\n",
    "vocab.most_common(5)\n"
   ]
  },
  {
   "cell_type": "markdown",
   "metadata": {
    "editable": true,
    "slideshow": {
     "slide_type": "slide"
    },
    "tags": []
   },
   "source": [
    "## Conversion of a single native PDF\n",
    "\n",
    "### Use case: [Swiss party programmes](https://visuals.manifesto-project.wzb.eu/mpdb-shiny/cmp_dashboard_dataset/)\n"
   ]
  },
  {
   "cell_type": "code",
   "execution_count": 42,
   "metadata": {
    "editable": true,
    "slideshow": {
     "slide_type": ""
    },
    "tags": []
   },
   "outputs": [
    {
     "name": "stdout",
     "output_type": "stream",
     "text": [
      "  \n",
      " Wahlplattform der GRÜNEN Schweiz 2019  – 2023   ii  \n",
      "IMPRESSUM  \n",
      "GRÜNE  Schweiz  \n",
      "Waisenhausplatz 21  \n",
      "3011 Bern  \n",
      "Tel. 031 326 66 00  \n",
      "www.gruene.ch  \n",
      "gruene@gruene.ch  \n",
      "Postkonto 80-26747 -3 \n",
      "Wahlplattform 201 9 – 2023  \n",
      "Beschlossen an der  \n",
      "Delegiertenversammlung vom 12. Januar 2019 in Emmen,  \n",
      "ergänzt durch den Resolutionsbeschluss der  \n",
      "Delegiertenversammlung vom 6. April 2019 in Sierre.  \n",
      "   Wahlplattform der GRÜNEN Schweiz 2019  – 2023   iii INHALTSVERZEICHNIS  \n",
      "GENDERNEUTRALE SPRACHE\n"
     ]
    }
   ],
   "source": [
    "from pypdf import PdfReader\n",
    "\n",
    "pdf_path = Path(\"../data/swiss_party_programmes/pdf/gruene_programmes/gruene_programme_2019.pdf\")\n",
    "\n",
    "# set up PDF reader\n",
    "reader = PdfReader(pdf_path)\n",
    "\n",
    "text = \"\"\n",
    "\n",
    "# iterate over pages\n",
    "for page in reader.pages:\n",
    "    text_page = page.extract_text()\n",
    "    \n",
    "    # clean up repeated empty lines\n",
    "    text_page = re.sub(r\"\\n\\s*\\n\", \"\\n\", text_page)\n",
    "\n",
    "    # add text of page to text of document\n",
    "    text += \" \" + text_page\n",
    "\n",
    "print(text[:500])\n"
   ]
  },
  {
   "cell_type": "markdown",
   "metadata": {
    "editable": true,
    "slideshow": {
     "slide_type": "slide"
    },
    "tags": []
   },
   "source": [
    "## Bonus: Clean up artifacts"
   ]
  },
  {
   "cell_type": "markdown",
   "metadata": {
    "editable": true,
    "slideshow": {
     "slide_type": ""
    },
    "tags": []
   },
   "source": [
    "- remove empty lines\n",
    "- remove page numbers\n",
    "- remove footer\n",
    "- merge hyphenated words"
   ]
  },
  {
   "cell_type": "markdown",
   "metadata": {
    "editable": true,
    "slideshow": {
     "slide_type": "slide"
    },
    "tags": []
   },
   "source": [
    "## Remove parts across lines"
   ]
  },
  {
   "cell_type": "code",
   "execution_count": 43,
   "metadata": {
    "editable": true,
    "slideshow": {
     "slide_type": ""
    },
    "tags": []
   },
   "outputs": [
    {
     "name": "stdout",
     "output_type": "stream",
     "text": [
      "\n",
      "This is an example Text.\n",
      "\n",
      "\n",
      "\n",
      "Keep this and the following.\n",
      "\n"
     ]
    }
   ],
   "source": [
    "# Remove multiple lines in a string using regular expressions\n",
    "\n",
    "import re\n",
    "\n",
    "text = \"\"\"\n",
    "This is an example Text.\n",
    "\n",
    "YOUR_PATTERN REMOVE THIS\n",
    "whatever is written here\n",
    "UNTIL HERE.\n",
    "\n",
    "Keep this and the following.\n",
    "\"\"\"\n",
    "\n",
    "# remove a multiline string by substituting the match with an empty string\n",
    "# re.DOTALL makes the . matching the newline character \\n\n",
    "text_clean = re.sub(\"YOUR_PATTERN.*UNTIL HERE.\", \"\", text, flags=re.DOTALL)\n",
    "\n",
    "print(text_clean)"
   ]
  },
  {
   "cell_type": "markdown",
   "metadata": {
    "slideshow": {
     "slide_type": "slide"
    }
   },
   "source": [
    "## In-class: Exercises I\n",
    "\n",
    "1. Open `VS Code` and, then, open the folder `KED2025`.\n",
    "2. Go to [swissinfo.ch](www.swissinfo.ch) and copy the content of a random news article.\n",
    "3. Create a new file in VS Code, paste the news article into it and save it as `.txt` file.\n",
    "4. Create another new file and save it as `.ipynb`, and do the following:\n",
    "   - Read the textfile containing the news article into a variable.\n",
    "   - Split the text into words.\n",
    "   - Count all words (i.e., the vocabulary) and write all the word counts into a `.tsv` file.\n",
    "   - Open the `.tsv` file in a spreadsheet programm.\n",
    "   - Bonus: Compute the relative frequency of each word."
   ]
  }
 ],
 "metadata": {
  "celltoolbar": "Slideshow",
  "kernelspec": {
   "display_name": ".venv",
   "language": "python",
   "name": "python3"
  },
  "language_info": {
   "codemirror_mode": {
    "name": "ipython",
    "version": 3
   },
   "file_extension": ".py",
   "mimetype": "text/x-python",
   "name": "python",
   "nbconvert_exporter": "python",
   "pygments_lexer": "ipython3",
   "version": "3.12.8"
  },
  "rise": {
   "enable_chalkboard": true
  }
 },
 "nbformat": 4,
 "nbformat_minor": 4
}
