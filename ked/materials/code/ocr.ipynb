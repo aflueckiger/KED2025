{
 "cells": [
  {
   "cell_type": "markdown",
   "id": "f135bd3a",
   "metadata": {},
   "source": [
    "## OCR with Tesseract"
   ]
  },
  {
   "cell_type": "markdown",
   "id": "0e0dd953",
   "metadata": {},
   "source": [
    "## Conversion of a single digitized PDF\n",
    "\n",
    "### use-case: [historical party programmes](https://visuals.manifesto-project.wzb.eu/mpdb-shiny/cmp_dashboard_dataset/)\n",
    "\n",
    "1. extract image from PDF\n",
    "2. run optical character recognition (OCR) on the image"
   ]
  },
  {
   "cell_type": "code",
   "execution_count": null,
   "id": "ae4bbaf1",
   "metadata": {},
   "outputs": [
    {
     "ename": "NameError",
     "evalue": "name 'Path' is not defined",
     "output_type": "error",
     "traceback": [
      "\u001b[0;31m---------------------------------------------------------------------------\u001b[0m\n",
      "\u001b[0;31mNameError\u001b[0m                                 Traceback (most recent call last)\n",
      "Cell \u001b[0;32mIn[1], line 5\u001b[0m\n",
      "\u001b[1;32m      2\u001b[0m \u001b[38;5;28;01mfrom\u001b[39;00m \u001b[38;5;21;01mpdf2image\u001b[39;00m \u001b[38;5;28;01mimport\u001b[39;00m convert_from_path\n",
      "\u001b[1;32m      4\u001b[0m \u001b[38;5;66;03m# path to PDF file\u001b[39;00m\n",
      "\u001b[0;32m----> 5\u001b[0m pdf_path \u001b[38;5;241m=\u001b[39m \u001b[43mPath\u001b[49m(\u001b[38;5;124m\"\u001b[39m\u001b[38;5;124m../data/scanned_pdf_sample/fdp_scan_party_programme_1947.pdf\u001b[39m\u001b[38;5;124m\"\u001b[39m)\n",
      "\u001b[1;32m      7\u001b[0m \u001b[38;5;66;03m# convert PDF to images (one image per page)\u001b[39;00m\n",
      "\u001b[1;32m      8\u001b[0m pages \u001b[38;5;241m=\u001b[39m convert_from_path(pdf_path, fmt\u001b[38;5;241m=\u001b[39m\u001b[38;5;124m\"\u001b[39m\u001b[38;5;124mpng\u001b[39m\u001b[38;5;124m\"\u001b[39m)\n",
      "\n",
      "\u001b[0;31mNameError\u001b[0m: name 'Path' is not defined"
     ]
    }
   ],
   "source": [
    "import pytesseract\n",
    "from pdf2image import convert_from_path\n",
    "from pathlib import Path\n",
    "\n",
    "# path to PDF file\n",
    "pdf_path = Path(\"../data/scanned_pdf_sample/fdp_scan_party_programme_1947.pdf\")\n",
    "\n",
    "# convert PDF to images (one image per page)\n",
    "pages = convert_from_path(pdf_path, fmt=\"png\")\n",
    "\n",
    "# initialize text to collect the text per page\n",
    "text = \"\"\n",
    "\n",
    "# iterate over pages\n",
    "for pageNum,imgBlob in enumerate(pages):\n",
    "    # extract text from image per page\n",
    "    text_page = pytesseract.image_to_string(imgBlob, lang='deu')\n",
    "\n",
    "    # append text for each page\n",
    "    text += \" \" + text_page\n",
    "\n",
    "print(text[:100])"
   ]
  },
  {
   "cell_type": "markdown",
   "id": "318ce175",
   "metadata": {},
   "source": [
    "## Extract the text from all PDFs in a folder"
   ]
  },
  {
   "cell_type": "code",
   "execution_count": null,
   "id": "7d668301",
   "metadata": {},
   "outputs": [],
   "source": [
    "# path to PDF directory\n",
    "indir = Path(\"../data/scanned_pdf_sample/\")\n",
    "outdir = Path(\"../data/scanned_pdf_sample/extracted\")\n",
    "\n",
    "# create output folder if it does not exist\n",
    "outdir.mkdir(parents=True, exist_ok=True)\n",
    "\n",
    "# iterate over all PDFs in input folder\n",
    "for infile in indir.glob(pattern=\"*.pdf\"):\n",
    "    print(f\"Reading PDF file: {infile}\")\n",
    "    \n",
    "    pages = convert_from_path(infile, fmt=\"png\")\n",
    "    text = \"\"\n",
    "    \n",
    "    for pageNum,imgBlob in enumerate(pages):\n",
    "        text_page = pytesseract.image_to_string(imgBlob, lang='deu')\n",
    "        text += \" \" + text_page\n",
    "\n",
    "    # define name of outfile (name.pdf -> name.txt)\n",
    "    outfile = outdir / (infile.stem + \".txt\")\n",
    "\n",
    "    # write content to file\n",
    "    with outfile.open(\"w\") as f:\n",
    "        f.write(text)\n",
    "    \n",
    "    print(f\"Extracted text to: {outfile}\")"
   ]
  },
  {
   "cell_type": "markdown",
   "id": "fb19ceb7",
   "metadata": {},
   "source": [
    "## OCR with Surya"
   ]
  },
  {
   "cell_type": "code",
   "execution_count": null,
   "id": "6544c459",
   "metadata": {},
   "outputs": [],
   "source": [
    "# %%\n",
    "from PIL import Image\n",
    "from surya.ocr import run_ocr\n",
    "from surya.model.detection.model import load_model as load_det_model, load_processor as load_det_processor\n",
    "from surya.model.recognition.model import load_model as load_rec_model\n",
    "from surya.model.recognition.processor import load_processor as load_rec_processor\n",
    "\n",
    "\n",
    "pdf_file = \"/home/alex/KED2025/ked/materials/data/scanned_pdf_sample/fdp_scan_party_programme_1947.pdf\"\n",
    "from pdf2image import convert_from_path\n",
    "\n",
    "\n",
    "# convert PDF to images (one image per page)\n",
    "pages = convert_from_path(pdf_file, fmt=\"png\")\n",
    "\n",
    "\n",
    "image = pages[0] # Image.open(\"IMAGE_PATH\")\n",
    "\n",
    "# import requests\n",
    "# url = \"https://fki.tic.heia-fr.ch/static/img/a01-122-02.jpg\"\n",
    "# image = Image.open(requests.get(url, stream=True).raw).convert(\"RGB\")\n",
    "\n",
    "langs = [\"de\"] # Replace with your languages - optional but recommended\n",
    "det_processor, det_model = load_det_processor(), load_det_model()\n",
    "rec_model, rec_processor = load_rec_model(), load_rec_processor()\n",
    "\n",
    "predictions = run_ocr([image], [langs], det_model, det_processor, rec_model, rec_processor)\n",
    "\n",
    "for idx_box in range(len(predictions)):\n",
    "    print([line.text for line in predictions[idx_box].text_lines])"
   ]
  }
 ],
 "metadata": {
  "kernelspec": {
   "display_name": ".venv",
   "language": "python",
   "name": "python3"
  },
  "language_info": {
   "codemirror_mode": {
    "name": "ipython",
    "version": 3
   },
   "file_extension": ".py",
   "mimetype": "text/x-python",
   "name": "python",
   "nbconvert_exporter": "python",
   "pygments_lexer": "ipython3",
   "version": "3.11.8"
  },
  "vscode": {
   "interpreter": {
    "hash": "2225c0e19c3f0c13ccd5f798c9a69d34844d1ef8ef2cd78fdeb33c1579f2ce2f"
   }
  }
 },
 "nbformat": 4,
 "nbformat_minor": 5
}
