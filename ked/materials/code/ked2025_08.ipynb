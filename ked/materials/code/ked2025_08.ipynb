{
 "cells": [
  {
   "cell_type": "markdown",
   "metadata": {
    "editable": true,
    "slideshow": {
     "slide_type": "slide"
    },
    "tags": []
   },
   "source": [
    "<section id=\"title-slide\">\n",
    "  <h1 class=\"title\">The ABC of Computational Text Analysis</h1>\n",
    "  <h2 class=\"subtitle\">#08: Data Analysis of Swiss Media</h2>\n",
    "  <p class=\"author\">Alex Flückiger</p><p class=\"date\">17 April 2025</p>\n",
    "</section>"
   ]
  },
  {
   "attachments": {},
   "cell_type": "markdown",
   "metadata": {
    "editable": true,
    "jp-MarkdownHeadingCollapsed": true,
    "slideshow": {
     "slide_type": "slide"
    },
    "tags": []
   },
   "source": [
    "## Update the course material\n",
    "1. Navigate to the course folder `KED2025` using `cd` in your command line\n",
    "2. Update the files with `git pull`\n",
    "3. If `git pull` doesn't work due to file conflicts, run `git restore .` first\n",
    "\n",
    "\n",
    "## Getting started \n",
    "1. Open VS Code\n",
    "2. Windows: Make sure that you are connected to WSL (green-badge in left-lower corner)\n",
    "3. Open the `KED2025` folder via the menu: `File` > `Open Folder`\n",
    "4. Navigate to `KED2025/ked/materials/code/KED2025_08.ipynb` and open with double-click\n",
    "5. Run the code with `Run all` via the top menu"
   ]
  },
  {
   "cell_type": "markdown",
   "metadata": {
    "editable": true,
    "slideshow": {
     "slide_type": "slide"
    },
    "tags": []
   },
   "source": [
    "## Curate a dataset on `wokeness` in swiss media\n",
    "\n",
    "The dataset is based on the following criteria:\n",
    "- article contains the word `woke` (indicating topic: wokeness)\n",
    "- published by NZZ or Tages-Anzeiger\n",
    "- published between 2000-2025\n",
    "\n",
    "Download and extract `.xz`-compressed dataset to get a `.tsv`. If you struggle with the extraction, you can go to the command-line and run:\n",
    "```bash\n",
    "xz -d filename.tsv.xz\n",
    "```\n",
    "\n",
    "\n",
    "![Query on Swissdox!](../../lectures/images/swissdox_woke.png)"
   ]
  },
  {
   "cell_type": "markdown",
   "metadata": {
    "editable": true,
    "slideshow": {
     "slide_type": "slide"
    },
    "tags": []
   },
   "source": [
    "## Modules\n",
    "#### Standing on the shoulders of giants\n",
    "- [pandas](https://pandas.pydata.org/docs/getting_started/intro_tutorials/index.html): analyze tabular data \n",
    "- [plotnine](https://plotnine.readthedocs.io): visualize anything (*ggplot for Python*)\n",
    "- [BeautifulSoup](https://www.crummy.com/software/BeautifulSoup/bs4/doc/#): extract data from HTML and XML files"
   ]
  },
  {
   "cell_type": "markdown",
   "metadata": {
    "editable": true,
    "slideshow": {
     "slide_type": "slide"
    },
    "tags": []
   },
   "source": [
    "# Importing modules\n",
    "\n",
    "various ways of importing"
   ]
  },
  {
   "cell_type": "code",
   "execution_count": 103,
   "metadata": {
    "editable": true,
    "slideshow": {
     "slide_type": ""
    },
    "tags": []
   },
   "outputs": [],
   "source": [
    "import pandas as pd\n",
    "import plotnine as pn\n",
    "from bs4 import BeautifulSoup"
   ]
  },
  {
   "cell_type": "markdown",
   "metadata": {
    "slideshow": {
     "slide_type": "slide"
    }
   },
   "source": [
    "## Load dataset"
   ]
  },
  {
   "cell_type": "code",
   "execution_count": 104,
   "metadata": {},
   "outputs": [
    {
     "data": {
      "text/html": [
       "<div>\n",
       "<style scoped>\n",
       "    .dataframe tbody tr th:only-of-type {\n",
       "        vertical-align: middle;\n",
       "    }\n",
       "\n",
       "    .dataframe tbody tr th {\n",
       "        vertical-align: top;\n",
       "    }\n",
       "\n",
       "    .dataframe thead th {\n",
       "        text-align: right;\n",
       "    }\n",
       "</style>\n",
       "<table border=\"1\" class=\"dataframe\">\n",
       "  <thead>\n",
       "    <tr style=\"text-align: right;\">\n",
       "      <th></th>\n",
       "      <th>id</th>\n",
       "      <th>pubtime</th>\n",
       "      <th>medium_code</th>\n",
       "      <th>medium_name</th>\n",
       "      <th>rubric</th>\n",
       "      <th>regional</th>\n",
       "      <th>doctype</th>\n",
       "      <th>doctype_description</th>\n",
       "      <th>language</th>\n",
       "      <th>char_count</th>\n",
       "      <th>dateline</th>\n",
       "      <th>head</th>\n",
       "      <th>subhead</th>\n",
       "      <th>article_link</th>\n",
       "      <th>content_id</th>\n",
       "      <th>content</th>\n",
       "    </tr>\n",
       "  </thead>\n",
       "  <tbody>\n",
       "    <tr>\n",
       "      <th>0</th>\n",
       "      <td>39835818</td>\n",
       "      <td>2020-06-18 00:00:00+02</td>\n",
       "      <td>TA</td>\n",
       "      <td>Tages-Anzeiger</td>\n",
       "      <td>Meinungen</td>\n",
       "      <td>NaN</td>\n",
       "      <td>PND</td>\n",
       "      <td>National daily newspaper</td>\n",
       "      <td>de</td>\n",
       "      <td>3785</td>\n",
       "      <td>NaN</td>\n",
       "      <td>Mobbing im Zeichen des «Guten»</td>\n",
       "      <td>NaN</td>\n",
       "      <td>NaN</td>\n",
       "      <td>00961432-028a-ca23-6f60-f079f2d7c048</td>\n",
       "      <td>&lt;tx&gt;&lt;ld&gt;&lt;p&gt;Aus Angst vor Reputationsschäden re...</td>\n",
       "    </tr>\n",
       "    <tr>\n",
       "      <th>1</th>\n",
       "      <td>42536108</td>\n",
       "      <td>2021-04-16 00:00:00+02</td>\n",
       "      <td>NZZ</td>\n",
       "      <td>Neue Zürcher Zeitung</td>\n",
       "      <td>Feuilleton</td>\n",
       "      <td>NaN</td>\n",
       "      <td>PND</td>\n",
       "      <td>National daily newspaper</td>\n",
       "      <td>de</td>\n",
       "      <td>12305</td>\n",
       "      <td>NaN</td>\n",
       "      <td>«Foucault lachte über Pädophilie»</td>\n",
       "      <td>Hat Michel Foucault Buben missbraucht? Von die...</td>\n",
       "      <td>NaN</td>\n",
       "      <td>013e9093-5b0e-5356-d240-c9addcbfb8fc</td>\n",
       "      <td>&lt;tx&gt;&lt;au&gt;Claudia Mäder&lt;/au&gt;&lt;p&gt;Herr Bruckner, wa...</td>\n",
       "    </tr>\n",
       "    <tr>\n",
       "      <th>2</th>\n",
       "      <td>31895707</td>\n",
       "      <td>2017-05-06 00:00:00+02</td>\n",
       "      <td>TA</td>\n",
       "      <td>Tages-Anzeiger</td>\n",
       "      <td>Wochenende Kultur &amp; Gesellschaft</td>\n",
       "      <td>NaN</td>\n",
       "      <td>PND</td>\n",
       "      <td>National daily newspaper</td>\n",
       "      <td>de</td>\n",
       "      <td>7883</td>\n",
       "      <td>NaN</td>\n",
       "      <td>Der Hass der Wohlgesinnten</td>\n",
       "      <td>NaN</td>\n",
       "      <td>NaN</td>\n",
       "      <td>03659813-b0f6-591a-855c-4f6964091cab</td>\n",
       "      <td>&lt;tx&gt;&lt;ld&gt;&lt;p&gt;Rate mal, wer zum Essen kommt: Die ...</td>\n",
       "    </tr>\n",
       "  </tbody>\n",
       "</table>\n",
       "</div>"
      ],
      "text/plain": [
       "         id                 pubtime medium_code           medium_name  \\\n",
       "0  39835818  2020-06-18 00:00:00+02          TA        Tages-Anzeiger   \n",
       "1  42536108  2021-04-16 00:00:00+02         NZZ  Neue Zürcher Zeitung   \n",
       "2  31895707  2017-05-06 00:00:00+02          TA        Tages-Anzeiger   \n",
       "\n",
       "                             rubric regional doctype  \\\n",
       "0                         Meinungen      NaN     PND   \n",
       "1                        Feuilleton      NaN     PND   \n",
       "2  Wochenende Kultur & Gesellschaft      NaN     PND   \n",
       "\n",
       "        doctype_description language  char_count dateline  \\\n",
       "0  National daily newspaper       de        3785      NaN   \n",
       "1  National daily newspaper       de       12305      NaN   \n",
       "2  National daily newspaper       de        7883      NaN   \n",
       "\n",
       "                                head  \\\n",
       "0     Mobbing im Zeichen des «Guten»   \n",
       "1  «Foucault lachte über Pädophilie»   \n",
       "2         Der Hass der Wohlgesinnten   \n",
       "\n",
       "                                             subhead  article_link  \\\n",
       "0                                                NaN           NaN   \n",
       "1  Hat Michel Foucault Buben missbraucht? Von die...           NaN   \n",
       "2                                                NaN           NaN   \n",
       "\n",
       "                             content_id  \\\n",
       "0  00961432-028a-ca23-6f60-f079f2d7c048   \n",
       "1  013e9093-5b0e-5356-d240-c9addcbfb8fc   \n",
       "2  03659813-b0f6-591a-855c-4f6964091cab   \n",
       "\n",
       "                                             content  \n",
       "0  <tx><ld><p>Aus Angst vor Reputationsschäden re...  \n",
       "1  <tx><au>Claudia Mäder</au><p>Herr Bruckner, wa...  \n",
       "2  <tx><ld><p>Rate mal, wer zum Essen kommt: Die ...  "
      ]
     },
     "execution_count": 104,
     "metadata": {},
     "output_type": "execute_result"
    }
   ],
   "source": [
    "# url to dataset stored in the GitHub project repository for easy online access\n",
    "# path_to_dataset = \"https://raw.githubusercontent.com/aflueckiger/KED2025/main/ked/materials/data/swiss_media_wokeness.tsv\"\n",
    "\n",
    "# when you have cloned the repository, you can also load the dataset from there\n",
    "path_to_dataset = \"../data/swiss_media_wokeness.tsv\"\n",
    "\n",
    "# load dataset\n",
    "df = pd.read_csv(path_to_dataset, sep=\"\\t\")\n",
    "\n",
    "# show the 3 first lines of the dataset\n",
    "df.head(3)\n"
   ]
  },
  {
   "cell_type": "markdown",
   "metadata": {
    "slideshow": {
     "slide_type": "slide"
    }
   },
   "source": [
    "## Get meta-information of a dataset"
   ]
  },
  {
   "cell_type": "code",
   "execution_count": 105,
   "metadata": {},
   "outputs": [
    {
     "data": {
      "text/plain": [
       "(433, 16)"
      ]
     },
     "execution_count": 105,
     "metadata": {},
     "output_type": "execute_result"
    }
   ],
   "source": [
    "# show the dateset's shape (rows x columns)\n",
    "df.shape\n"
   ]
  },
  {
   "cell_type": "code",
   "execution_count": 106,
   "metadata": {},
   "outputs": [
    {
     "name": "stdout",
     "output_type": "stream",
     "text": [
      "<class 'pandas.core.frame.DataFrame'>\n",
      "RangeIndex: 433 entries, 0 to 432\n",
      "Data columns (total 16 columns):\n",
      " #   Column               Non-Null Count  Dtype  \n",
      "---  ------               --------------  -----  \n",
      " 0   id                   433 non-null    int64  \n",
      " 1   pubtime              433 non-null    object \n",
      " 2   medium_code          433 non-null    object \n",
      " 3   medium_name          433 non-null    object \n",
      " 4   rubric               430 non-null    object \n",
      " 5   regional             4 non-null      object \n",
      " 6   doctype              433 non-null    object \n",
      " 7   doctype_description  433 non-null    object \n",
      " 8   language             433 non-null    object \n",
      " 9   char_count           433 non-null    int64  \n",
      " 10  dateline             43 non-null     object \n",
      " 11  head                 433 non-null    object \n",
      " 12  subhead              260 non-null    object \n",
      " 13  article_link         0 non-null      float64\n",
      " 14  content_id           433 non-null    object \n",
      " 15  content              433 non-null    object \n",
      "dtypes: float64(1), int64(2), object(13)\n",
      "memory usage: 54.3+ KB\n"
     ]
    }
   ],
   "source": [
    "# get general information about dataset\n",
    "df.info()\n"
   ]
  },
  {
   "cell_type": "markdown",
   "metadata": {
    "slideshow": {
     "slide_type": "slide"
    }
   },
   "source": [
    "## Remove irrelevant data"
   ]
  },
  {
   "cell_type": "code",
   "execution_count": 107,
   "metadata": {},
   "outputs": [
    {
     "data": {
      "text/html": [
       "<div>\n",
       "<style scoped>\n",
       "    .dataframe tbody tr th:only-of-type {\n",
       "        vertical-align: middle;\n",
       "    }\n",
       "\n",
       "    .dataframe tbody tr th {\n",
       "        vertical-align: top;\n",
       "    }\n",
       "\n",
       "    .dataframe thead th {\n",
       "        text-align: right;\n",
       "    }\n",
       "</style>\n",
       "<table border=\"1\" class=\"dataframe\">\n",
       "  <thead>\n",
       "    <tr style=\"text-align: right;\">\n",
       "      <th></th>\n",
       "      <th>pubtime</th>\n",
       "      <th>medium_code</th>\n",
       "      <th>medium_name</th>\n",
       "      <th>rubric</th>\n",
       "      <th>language</th>\n",
       "      <th>char_count</th>\n",
       "      <th>head</th>\n",
       "      <th>subhead</th>\n",
       "      <th>content</th>\n",
       "    </tr>\n",
       "  </thead>\n",
       "  <tbody>\n",
       "    <tr>\n",
       "      <th>0</th>\n",
       "      <td>2020-06-18 00:00:00+02</td>\n",
       "      <td>TA</td>\n",
       "      <td>Tages-Anzeiger</td>\n",
       "      <td>Meinungen</td>\n",
       "      <td>de</td>\n",
       "      <td>3785</td>\n",
       "      <td>Mobbing im Zeichen des «Guten»</td>\n",
       "      <td>NaN</td>\n",
       "      <td>&lt;tx&gt;&lt;ld&gt;&lt;p&gt;Aus Angst vor Reputationsschäden re...</td>\n",
       "    </tr>\n",
       "    <tr>\n",
       "      <th>1</th>\n",
       "      <td>2021-04-16 00:00:00+02</td>\n",
       "      <td>NZZ</td>\n",
       "      <td>Neue Zürcher Zeitung</td>\n",
       "      <td>Feuilleton</td>\n",
       "      <td>de</td>\n",
       "      <td>12305</td>\n",
       "      <td>«Foucault lachte über Pädophilie»</td>\n",
       "      <td>Hat Michel Foucault Buben missbraucht? Von die...</td>\n",
       "      <td>&lt;tx&gt;&lt;au&gt;Claudia Mäder&lt;/au&gt;&lt;p&gt;Herr Bruckner, wa...</td>\n",
       "    </tr>\n",
       "    <tr>\n",
       "      <th>2</th>\n",
       "      <td>2017-05-06 00:00:00+02</td>\n",
       "      <td>TA</td>\n",
       "      <td>Tages-Anzeiger</td>\n",
       "      <td>Wochenende Kultur &amp; Gesellschaft</td>\n",
       "      <td>de</td>\n",
       "      <td>7883</td>\n",
       "      <td>Der Hass der Wohlgesinnten</td>\n",
       "      <td>NaN</td>\n",
       "      <td>&lt;tx&gt;&lt;ld&gt;&lt;p&gt;Rate mal, wer zum Essen kommt: Die ...</td>\n",
       "    </tr>\n",
       "  </tbody>\n",
       "</table>\n",
       "</div>"
      ],
      "text/plain": [
       "                  pubtime medium_code           medium_name  \\\n",
       "0  2020-06-18 00:00:00+02          TA        Tages-Anzeiger   \n",
       "1  2021-04-16 00:00:00+02         NZZ  Neue Zürcher Zeitung   \n",
       "2  2017-05-06 00:00:00+02          TA        Tages-Anzeiger   \n",
       "\n",
       "                             rubric language  char_count  \\\n",
       "0                         Meinungen       de        3785   \n",
       "1                        Feuilleton       de       12305   \n",
       "2  Wochenende Kultur & Gesellschaft       de        7883   \n",
       "\n",
       "                                head  \\\n",
       "0     Mobbing im Zeichen des «Guten»   \n",
       "1  «Foucault lachte über Pädophilie»   \n",
       "2         Der Hass der Wohlgesinnten   \n",
       "\n",
       "                                             subhead  \\\n",
       "0                                                NaN   \n",
       "1  Hat Michel Foucault Buben missbraucht? Von die...   \n",
       "2                                                NaN   \n",
       "\n",
       "                                             content  \n",
       "0  <tx><ld><p>Aus Angst vor Reputationsschäden re...  \n",
       "1  <tx><au>Claudia Mäder</au><p>Herr Bruckner, wa...  \n",
       "2  <tx><ld><p>Rate mal, wer zum Essen kommt: Die ...  "
      ]
     },
     "execution_count": 107,
     "metadata": {},
     "output_type": "execute_result"
    }
   ],
   "source": [
    "# define a list of irrelevant columns\n",
    "columns_to_drop = [\n",
    "    \"id\",\n",
    "    \"regional\",\n",
    "    \"doctype\",\n",
    "    \"doctype_description\",\n",
    "    \"dateline\",\n",
    "    \"content_id\",\n",
    "    \"article_link\"\n",
    "]\n",
    "# remove these columns and save resulting dataset into a new variable \n",
    "df_sub = df.drop(columns=columns_to_drop)\n",
    "\n",
    "df_sub.head(3)\n"
   ]
  },
  {
   "cell_type": "markdown",
   "metadata": {
    "slideshow": {
     "slide_type": "slide"
    }
   },
   "source": [
    "## Get statistics for numerical columns"
   ]
  },
  {
   "cell_type": "code",
   "execution_count": 108,
   "metadata": {},
   "outputs": [
    {
     "data": {
      "text/html": [
       "<div>\n",
       "<style scoped>\n",
       "    .dataframe tbody tr th:only-of-type {\n",
       "        vertical-align: middle;\n",
       "    }\n",
       "\n",
       "    .dataframe tbody tr th {\n",
       "        vertical-align: top;\n",
       "    }\n",
       "\n",
       "    .dataframe thead th {\n",
       "        text-align: right;\n",
       "    }\n",
       "</style>\n",
       "<table border=\"1\" class=\"dataframe\">\n",
       "  <thead>\n",
       "    <tr style=\"text-align: right;\">\n",
       "      <th></th>\n",
       "      <th>char_count</th>\n",
       "    </tr>\n",
       "  </thead>\n",
       "  <tbody>\n",
       "    <tr>\n",
       "      <th>count</th>\n",
       "      <td>433.000000</td>\n",
       "    </tr>\n",
       "    <tr>\n",
       "      <th>mean</th>\n",
       "      <td>7562.872979</td>\n",
       "    </tr>\n",
       "    <tr>\n",
       "      <th>std</th>\n",
       "      <td>3956.398566</td>\n",
       "    </tr>\n",
       "    <tr>\n",
       "      <th>min</th>\n",
       "      <td>343.000000</td>\n",
       "    </tr>\n",
       "    <tr>\n",
       "      <th>25%</th>\n",
       "      <td>4925.000000</td>\n",
       "    </tr>\n",
       "    <tr>\n",
       "      <th>50%</th>\n",
       "      <td>6946.000000</td>\n",
       "    </tr>\n",
       "    <tr>\n",
       "      <th>75%</th>\n",
       "      <td>9484.000000</td>\n",
       "    </tr>\n",
       "    <tr>\n",
       "      <th>max</th>\n",
       "      <td>36472.000000</td>\n",
       "    </tr>\n",
       "  </tbody>\n",
       "</table>\n",
       "</div>"
      ],
      "text/plain": [
       "         char_count\n",
       "count    433.000000\n",
       "mean    7562.872979\n",
       "std     3956.398566\n",
       "min      343.000000\n",
       "25%     4925.000000\n",
       "50%     6946.000000\n",
       "75%     9484.000000\n",
       "max    36472.000000"
      ]
     },
     "execution_count": 108,
     "metadata": {},
     "output_type": "execute_result"
    }
   ],
   "source": [
    "# Get descriptive stats for each numerical column\n",
    "df_sub.describe()\n"
   ]
  },
  {
   "cell_type": "markdown",
   "metadata": {
    "slideshow": {
     "slide_type": "slide"
    }
   },
   "source": [
    "## Count articles per..."
   ]
  },
  {
   "cell_type": "code",
   "execution_count": 109,
   "metadata": {},
   "outputs": [
    {
     "data": {
      "text/plain": [
       "medium_name\n",
       "Neue Zürcher Zeitung    300\n",
       "Tages-Anzeiger          133\n",
       "Name: count, dtype: int64"
      ]
     },
     "execution_count": 109,
     "metadata": {},
     "output_type": "execute_result"
    }
   ],
   "source": [
    "# number of articles per newspaper\n",
    "df_sub[\"medium_name\"].value_counts()"
   ]
  },
  {
   "cell_type": "code",
   "execution_count": 110,
   "metadata": {},
   "outputs": [
    {
     "data": {
      "text/plain": [
       "rubric\n",
       "Feuilleton                       116\n",
       "International                     64\n",
       "Meinung und Debatte               57\n",
       "Kultur & Gesellschaft             31\n",
       "Schweiz                           25\n",
       "Wirtschaft                        15\n",
       "Meinungen                         13\n",
       "Kultur, Gesellschaft & Wissen     13\n",
       "Medien                            13\n",
       "Front                             12\n",
       "Name: count, dtype: int64"
      ]
     },
     "execution_count": 110,
     "metadata": {},
     "output_type": "execute_result"
    }
   ],
   "source": [
    "# number of articles per rubric (limited to 10 most frequent)\n",
    "df_sub[\"rubric\"].value_counts()[:10]"
   ]
  },
  {
   "cell_type": "markdown",
   "metadata": {
    "slideshow": {
     "slide_type": "slide"
    }
   },
   "source": [
    "## Visualize absolute frequency as bar plot"
   ]
  },
  {
   "cell_type": "code",
   "execution_count": 111,
   "metadata": {},
   "outputs": [
    {
     "data": {
      "text/plain": [
       "<Axes: title={'center': 'Number of articles per category'}, xlabel='rubric'>"
      ]
     },
     "execution_count": 111,
     "metadata": {},
     "output_type": "execute_result"
    },
    {
     "data": {
      "image/png": "[encoded data removed]",
      "text/plain": [
       "<Figure size 640x480 with 1 Axes>"
      ]
     },
     "metadata": {},
     "output_type": "display_data"
    }
   ],
   "source": [
    "# visualize the number of articles per rubric as bar plot (same numbers as before)\n",
    "# limit to the 10 most frequent rubrics\n",
    "df_sub[\"rubric\"].value_counts()[:10].plot(\n",
    "    kind=\"bar\", title=\"Number of articles per category\"\n",
    ")\n"
   ]
  },
  {
   "cell_type": "markdown",
   "metadata": {
    "slideshow": {
     "slide_type": "slide"
    }
   },
   "source": [
    "## Visualize relative frequency as bar plot"
   ]
  },
  {
   "cell_type": "code",
   "execution_count": 112,
   "metadata": {},
   "outputs": [
    {
     "data": {
      "text/plain": [
       "<Axes: title={'center': 'Relative frequency of articles per category'}, xlabel='rubric'>"
      ]
     },
     "execution_count": 112,
     "metadata": {},
     "output_type": "execute_result"
    },
    {
     "data": {
      "image/png": "[encoded data removed]",
      "text/plain": [
       "<Figure size 640x480 with 1 Axes>"
      ]
     },
     "metadata": {},
     "output_type": "display_data"
    }
   ],
   "source": [
    "# visualize the relative frequency of articles per rubric (i.e., normalizing the absolute numbers)\n",
    "df_sub[\"rubric\"].value_counts(normalize=True)[:10].plot(\n",
    "    kind=\"bar\", title=\"Relative frequency of articles per category\"\n",
    ")\n"
   ]
  },
  {
   "cell_type": "markdown",
   "metadata": {
    "slideshow": {
     "slide_type": "slide"
    }
   },
   "source": [
    "## Sanity check textual content"
   ]
  },
  {
   "cell_type": "code",
   "execution_count": 113,
   "metadata": {
    "slideshow": {
     "slide_type": "-"
    }
   },
   "outputs": [
    {
     "data": {
      "text/plain": [
       "'<tx><ld><p>Aus Angst vor Reputationsschäden reagieren Firmen oft kopflos, wenn sie einen Shitstorm befürchten. Doch das kann sich rächen.</p></ld><p><au>Michèle Binswanger</au></p><p>Die sozialen Medien waren dazu gedacht, die Meinungsäusserungsfreiheit zu fördern. Stattdessen bedrohen sie sie mittlerweile. Das zeigte sich vergangenes Wochenende. Kaum 24 Stunden nachdem sich ein Shitstorm gegen Influencerin Mimi Jäger erhoben hatte, zeigten sich einige ihrer Auftraggeber auf Twitter «bestürzt» (die Post), bekannten sich zu «Diversität und Vielfalt» (Philips) und gelobten, künftig nicht mehr mit Jäger zusammenzuarbeiten. Auffällig an diesen Bekenntnissen ist, wie reflexartig sie erfolgten und wie identisch sie in der Wortwahl sind. Ganz so, als zitiere man aus einem Handbuch. Und keiner machte sich die Mühe, zu überprüfen, was an den Anschuldigungen gegen Jäger eigentlich dran war. Nämlich herzlich wenig.</p><p>Wir leben in politisch aufgeladenen Zeiten, der Konformitätsdruck ist gross. Wer ausschert, macht sich zum Ziel und riskiert eine Diffamierungskampagne, die Existenzen vernichten kann. Ganz zu schweigen von den psychologischen Folgen solchen Cybermobbings, das legitim scheint, wenn es sich nur den moralisch richtigen Anschein gibt. Der Fall Jäger zeigt, wie leichtfertig das geschieht: Dann reicht der blosse Verdacht auf Fehlverhalten, um dem Mob in den sozialen Medien nachzugeben. Der Verdacht ist Prozess, Urteil und Strafe in einem.</p><p>Dass da mittlerweile auch grosse Firmen eilfertig mitmischen, dürfte mit den in den letzten Jahren aufgebauten Social-Media-Abteilungen zu tun haben. Dort arbeiten in der Regel junge Menschen mit viel Meinung, aber wenig Ahnung. Doch anstatt sie zu begleiten, lässt man ihnen freie Hand, weil man glaubt, nur sie würden diese Medien verstehen. Das Gebot ist, authentisch und nahe beim User zu kommunizieren, sich als Teil einer Community zu präsentieren. Und das bedeutet offensichtlich, dass man sich im Zweifelsfall vom Shitstorm mitreissen lässt. Man könnte ja sonst selber zum Ziel zu werden.</p><p>Damit senden diese Abteilungen ein katastrophales Signal: nämlich, dass der Mob die Macht hat, die Personalpolitik oder das Produktsortiment von Unternehmen zu diktieren. Das ist problematisch. Denn ein Shitstorm ist schnell inszeniert und wird auch immer öfter gezielt eingesetzt. Das mag manchmal Gutes bewirken, macht aber auch anfällig. Wer beim blossen Verdacht einknickt, ohne die Hintergründe zu kennen, ist leicht manipulierbar. Und wie Fälle aus der jüngsten Vergangenheit mit Mohrenköpfen oder Migros-Taschen zeigen, kann auch der vorauseilende Kniefall in einen Reputationsschaden münden.</p><p>Auch im Fall Jäger. Denn es ist störend, dass die Hintergründe des Shitstorms kaum zu interessieren schienen. Vielmehr nutzten die Social-Media-Verantwortlichen die Gelegenheit, sich als besonders «woke» zu präsentieren, also als jemand, der für Vielfalt und gegen Diskriminierung steht. Und dies alles auf dem Rücken einer Frau, die sie als Werbeträgerin engagiert hatten. Mittlerweile hat sich die Post entschuldigt, und auch die anderen Firmen räumen ein, möglicherweise überreagiert zu haben.</p><p>Nicht zuletzt sei bemerkt, dass die tatsächliche «Wokeness» dieser Unternehmen zweifelhaft bleibt. So machen fast alle Versicherungen ihre Prämien abhängig vom Pass oder vom Alter ihrer Kunden. Und wie divers ist eigentlich die Belegschaft der Post, der Mobiliar oder von Philips? Bevor man das nächste Mal einfach dem Mob nachgibt, sollte man sich diese Fragen vielleicht zuerst stellen.</p><lg><p>Die Demonstration gegen Rassismus in Zürich blockierte grosste Teile der Stadt – und frustrierte Mimi Jäger. Foto: Keystone</p></lg></tx>'"
      ]
     },
     "execution_count": 113,
     "metadata": {},
     "output_type": "execute_result"
    }
   ],
   "source": [
    "# unfortunately, the document content is not pure and contains HTML-tags\n",
    "# we want to remove these elemnents (e.g. <tx><au><p>)\n",
    "df_sub[\"content\"][0]\n"
   ]
  },
  {
   "cell_type": "code",
   "execution_count": 114,
   "metadata": {},
   "outputs": [
    {
     "data": {
      "text/plain": [
       "325    <tx><au>Daniel Haas</au><p>Die Lust am Weltunt...\n",
       "270    <tx><au>Josef Joffe</au><p>August Bebel, Mitbe...\n",
       "412    <tx><au>Christian Wildhagen</au><p>Der junge M...\n",
       "153    <tx><au>Benedict Neff</au><p>Als die russische...\n",
       "72     <tx><p><au>Arnon Grünberg</au></p><p>«Ich vers...\n",
       "Name: content, dtype: object"
      ]
     },
     "execution_count": 114,
     "metadata": {},
     "output_type": "execute_result"
    }
   ],
   "source": [
    "# get a random sample of document content\n",
    "df_sub[\"content\"].sample(n=5)"
   ]
  },
  {
   "cell_type": "markdown",
   "metadata": {
    "slideshow": {
     "slide_type": "slide"
    }
   },
   "source": [
    "# Data is a dirty business\n",
    "![Clean your data](../../lectures/images/clean_data.png)"
   ]
  },
  {
   "cell_type": "markdown",
   "metadata": {
    "slideshow": {
     "slide_type": "slide"
    }
   },
   "source": [
    "## Clean a single document using BeautifulSoup\n"
   ]
  },
  {
   "cell_type": "code",
   "execution_count": 115,
   "metadata": {
    "editable": true,
    "slideshow": {
     "slide_type": "-"
    },
    "tags": []
   },
   "outputs": [
    {
     "name": "stdout",
     "output_type": "stream",
     "text": [
      "Aus Angst vor Reputationsschäden reagieren Firmen oft kopflos, wenn sie einen Shitstorm befürchten. Doch das kann sich rächen.\n",
      "Die sozialen Medien waren dazu gedacht, die Meinungsäusserungsfreiheit zu fördern. Stattdessen bedrohen sie sie mittlerweile. Das zeigte sich vergangenes Wochenende. Kaum 24 Stunden nachdem sich ein Shitstorm gegen Influencerin Mimi Jäger erhoben hatte, zeigten sich einige ihrer Auftraggeber auf Twitter «bestürzt» (die Post), bekannten sich zu «Diversität und Vielfalt» (Philips) und gelobten, künftig nicht mehr mit Jäger zusammenzuarbeiten. Auffällig an diesen Bekenntnissen ist, wie reflexartig sie erfolgten und wie identisch sie in der Wortwahl sind. Ganz so, als zitiere man aus einem Handbuch. Und keiner machte sich die Mühe, zu überprüfen, was an den Anschuldigungen gegen Jäger eigentlich dran war. Nämlich herzlich wenig.\n",
      "Wir leben in politisch aufgeladenen Zeiten, der Konformitätsdruck ist gross. Wer ausschert, macht sich zum Ziel und riskiert eine Diffamierungskampagne, die Existenzen vernichten kann. Ganz zu schweigen von den psychologischen Folgen solchen Cybermobbings, das legitim scheint, wenn es sich nur den moralisch richtigen Anschein gibt. Der Fall Jäger zeigt, wie leichtfertig das geschieht: Dann reicht der blosse Verdacht auf Fehlverhalten, um dem Mob in den sozialen Medien nachzugeben. Der Verdacht ist Prozess, Urteil und Strafe in einem.\n",
      "Dass da mittlerweile auch grosse Firmen eilfertig mitmischen, dürfte mit den in den letzten Jahren aufgebauten Social-Media-Abteilungen zu tun haben. Dort arbeiten in der Regel junge Menschen mit viel Meinung, aber wenig Ahnung. Doch anstatt sie zu begleiten, lässt man ihnen freie Hand, weil man glaubt, nur sie würden diese Medien verstehen. Das Gebot ist, authentisch und nahe beim User zu kommunizieren, sich als Teil einer Community zu präsentieren. Und das bedeutet offensichtlich, dass man sich im Zweifelsfall vom Shitstorm mitreissen lässt. Man könnte ja sonst selber zum Ziel zu werden.\n",
      "Damit senden diese Abteilungen ein katastrophales Signal: nämlich, dass der Mob die Macht hat, die Personalpolitik oder das Produktsortiment von Unternehmen zu diktieren. Das ist problematisch. Denn ein Shitstorm ist schnell inszeniert und wird auch immer öfter gezielt eingesetzt. Das mag manchmal Gutes bewirken, macht aber auch anfällig. Wer beim blossen Verdacht einknickt, ohne die Hintergründe zu kennen, ist leicht manipulierbar. Und wie Fälle aus der jüngsten Vergangenheit mit Mohrenköpfen oder Migros-Taschen zeigen, kann auch der vorauseilende Kniefall in einen Reputationsschaden münden.\n",
      "Auch im Fall Jäger. Denn es ist störend, dass die Hintergründe des Shitstorms kaum zu interessieren schienen. Vielmehr nutzten die Social-Media-Verantwortlichen die Gelegenheit, sich als besonders «woke» zu präsentieren, also als jemand, der für Vielfalt und gegen Diskriminierung steht. Und dies alles auf dem Rücken einer Frau, die sie als Werbeträgerin engagiert hatten. Mittlerweile hat sich die Post entschuldigt, und auch die anderen Firmen räumen ein, möglicherweise überreagiert zu haben.\n",
      "Nicht zuletzt sei bemerkt, dass die tatsächliche «Wokeness» dieser Unternehmen zweifelhaft bleibt. So machen fast alle Versicherungen ihre Prämien abhängig vom Pass oder vom Alter ihrer Kunden. Und wie divers ist eigentlich die Belegschaft der Post, der Mobiliar oder von Philips? Bevor man das nächste Mal einfach dem Mob nachgibt, sollte man sich diese Fragen vielleicht zuerst stellen.\n",
      "Die Demonstration gegen Rassismus in Zürich blockierte grosste Teile der Stadt – und frustrierte Mimi Jäger. Foto: Keystone\n"
     ]
    }
   ],
   "source": [
    "# assign the first document to a new variable\n",
    "html_doc = df_sub[\"content\"][0]\n",
    "\n",
    "# create beautiful soup object for easy clean-up\n",
    "soup = BeautifulSoup(html_doc)\n",
    "\n",
    "# remove the authors name in the tag, e.g. <au>AUTHORNAME</au>\n",
    "soup.au.decompose()\n",
    "\n",
    "# strip the remaining tags and join the strings by newline\n",
    "text = soup.get_text(separator=\"\\n\", strip=True)\n",
    "\n",
    "# show the cleaned document\n",
    "print(text)\n"
   ]
  },
  {
   "cell_type": "markdown",
   "metadata": {
    "editable": true,
    "slideshow": {
     "slide_type": "slide"
    },
    "tags": []
   },
   "source": [
    "## Clean all documents in the dataset"
   ]
  },
  {
   "cell_type": "code",
   "execution_count": 124,
   "metadata": {
    "editable": true,
    "slideshow": {
     "slide_type": "-"
    },
    "tags": []
   },
   "outputs": [
    {
     "name": "stdout",
     "output_type": "stream",
     "text": [
      "Aus Angst vor Reputationsschäden reagieren Firmen oft kopflos, wenn sie einen Shitstorm befürchten. Doch das kann sich rächen.\n",
      "Die sozialen Medien waren dazu gedacht, die Meinungsäusserungsfreiheit zu fördern. Stattdessen bedrohen sie sie mittlerweile. Das zeigte sich vergangenes Wochenende. Kaum 24 Stunden nachdem sich ein Shitstorm gegen Influencerin Mimi Jäger erhoben hatte, zeigten sich einige ihrer Auftraggeber auf Twitter «bestürzt» (die Post), bekannten sich zu «Diversität und Vielfalt» (Philips) und gelobten, künftig nicht mehr mit Jäger zusammenzuarbeiten. Auffällig an diesen Bekenntnissen ist, wie reflexartig sie erfolgten und wie identisch sie in der Wortwahl sind. Ganz so, als zitiere man aus einem Handbuch. Und keiner machte sich die Mühe, zu überprüfen, was an den Anschuldigungen gegen Jäger eigentlich dran war. Nämlich herzlich wenig.\n",
      "Wir leben in politisch aufgeladenen Zeiten, der Konformitätsdruck ist gross. Wer ausschert, macht sich zum Ziel und riskiert eine Diffamierungskampagne, die Existenzen vernichten kann. Ganz zu schweigen von den psychologischen Folgen solchen Cybermobbings, das legitim scheint, wenn es sich nur den moralisch richtigen Anschein gibt. Der Fall Jäger zeigt, wie leichtfertig das geschieht: Dann reicht der blosse Verdacht auf Fehlverhalten, um dem Mob in den sozialen Medien nachzugeben. Der Verdacht ist Prozess, Urteil und Strafe in einem.\n",
      "Dass da mittlerweile auch grosse Firmen eilfertig mitmischen, dürfte mit den in den letzten Jahren aufgebauten Social-Media-Abteilungen zu tun haben. Dort arbeiten in der Regel junge Menschen mit viel Meinung, aber wenig Ahnung. Doch anstatt sie zu begleiten, lässt man ihnen freie Hand, weil man glaubt, nur sie würden diese Medien verstehen. Das Gebot ist, authentisch und nahe beim User zu kommunizieren, sich als Teil einer Community zu präsentieren. Und das bedeutet offensichtlich, dass man sich im Zweifelsfall vom Shitstorm mitreissen lässt. Man könnte ja sonst selber zum Ziel zu werden.\n",
      "Damit senden diese Abteilungen ein katastrophales Signal: nämlich, dass der Mob die Macht hat, die Personalpolitik oder das Produktsortiment von Unternehmen zu diktieren. Das ist problematisch. Denn ein Shitstorm ist schnell inszeniert und wird auch immer öfter gezielt eingesetzt. Das mag manchmal Gutes bewirken, macht aber auch anfällig. Wer beim blossen Verdacht einknickt, ohne die Hintergründe zu kennen, ist leicht manipulierbar. Und wie Fälle aus der jüngsten Vergangenheit mit Mohrenköpfen oder Migros-Taschen zeigen, kann auch der vorauseilende Kniefall in einen Reputationsschaden münden.\n",
      "Auch im Fall Jäger. Denn es ist störend, dass die Hintergründe des Shitstorms kaum zu interessieren schienen. Vielmehr nutzten die Social-Media-Verantwortlichen die Gelegenheit, sich als besonders «woke» zu präsentieren, also als jemand, der für Vielfalt und gegen Diskriminierung steht. Und dies alles auf dem Rücken einer Frau, die sie als Werbeträgerin engagiert hatten. Mittlerweile hat sich die Post entschuldigt, und auch die anderen Firmen räumen ein, möglicherweise überreagiert zu haben.\n",
      "Nicht zuletzt sei bemerkt, dass die tatsächliche «Wokeness» dieser Unternehmen zweifelhaft bleibt. So machen fast alle Versicherungen ihre Prämien abhängig vom Pass oder vom Alter ihrer Kunden. Und wie divers ist eigentlich die Belegschaft der Post, der Mobiliar oder von Philips? Bevor man das nächste Mal einfach dem Mob nachgibt, sollte man sich diese Fragen vielleicht zuerst stellen.\n",
      "Die Demonstration gegen Rassismus in Zürich blockierte grosste Teile der Stadt – und frustrierte Mimi Jäger. Foto: Keystone\n"
     ]
    }
   ],
   "source": [
    "def remove_html_tags(text):\n",
    "    # create beautiful soup object for easy clean-up\n",
    "    soup = BeautifulSoup(text)\n",
    "\n",
    "    try:\n",
    "        # remove the authors name in the tag, e.g. <au>AUTHORNAME</au>\n",
    "        soup.au.decompose()\n",
    "    except AttributeError:\n",
    "        # in some of the articles, there is no <au>AUTHORNAME</au>\n",
    "        # thus, we want to catch the error and just by-pass the raised error\n",
    "        pass\n",
    "\n",
    "    # strip the remaining tags and join the strings by newline\n",
    "    text = soup.get_text(separator=\"\\n\", strip=True)\n",
    "\n",
    "    return text\n",
    "\n",
    "\n",
    "# Call the function remove_html_tags for each cell in the column `content`\n",
    "df_sub[\"content\"] = df_sub[\"content\"].map(remove_html_tags)\n",
    "\n",
    "# Check the first document after cleaning\n",
    "print(df_sub[\"content\"][0])\n"
   ]
  },
  {
   "cell_type": "markdown",
   "metadata": {
    "slideshow": {
     "slide_type": "slide"
    }
   },
   "source": [
    "## Exlclude missing data\n",
    "There is some missing data indicated by NaN, which may bias your results. \n",
    "See also [Working with missing data](https://pandas.pydata.org/pandas-docs/stable/user_guide/missing_data.html?highlight=nan/)."
   ]
  },
  {
   "cell_type": "code",
   "execution_count": 125,
   "metadata": {
    "editable": true,
    "slideshow": {
     "slide_type": ""
    },
    "tags": []
   },
   "outputs": [
    {
     "data": {
      "text/plain": [
       "pubtime          0\n",
       "medium_code      0\n",
       "medium_name      0\n",
       "rubric           3\n",
       "language         0\n",
       "char_count       0\n",
       "head             0\n",
       "subhead        173\n",
       "content          0\n",
       "dtype: int64"
      ]
     },
     "execution_count": 125,
     "metadata": {},
     "output_type": "execute_result"
    }
   ],
   "source": [
    "# Check missing data in each column (na = not available)\n",
    "df_sub.isna().sum()\n"
   ]
  },
  {
   "cell_type": "code",
   "execution_count": 138,
   "metadata": {
    "editable": true,
    "slideshow": {
     "slide_type": ""
    },
    "tags": []
   },
   "outputs": [
    {
     "data": {
      "text/plain": [
       "(430, 11)"
      ]
     },
     "execution_count": 138,
     "metadata": {},
     "output_type": "execute_result"
    }
   ],
   "source": [
    "# Filter articles where the rubric information is missing\n",
    "df_filter = df_sub[df_sub[\"rubric\"].isna() == False]\n",
    "df_filter.shape\n"
   ]
  },
  {
   "cell_type": "markdown",
   "metadata": {
    "slideshow": {
     "slide_type": "slide"
    }
   },
   "source": [
    "## Recode categorial variables\n",
    "Sometimes you want to change a category name to improve consistency or readability "
   ]
  },
  {
   "cell_type": "code",
   "execution_count": 128,
   "metadata": {
    "editable": true,
    "slideshow": {
     "slide_type": ""
    },
    "tags": []
   },
   "outputs": [
    {
     "data": {
      "text/html": [
       "<div>\n",
       "<style scoped>\n",
       "    .dataframe tbody tr th:only-of-type {\n",
       "        vertical-align: middle;\n",
       "    }\n",
       "\n",
       "    .dataframe tbody tr th {\n",
       "        vertical-align: top;\n",
       "    }\n",
       "\n",
       "    .dataframe thead th {\n",
       "        text-align: right;\n",
       "    }\n",
       "</style>\n",
       "<table border=\"1\" class=\"dataframe\">\n",
       "  <thead>\n",
       "    <tr style=\"text-align: right;\">\n",
       "      <th></th>\n",
       "      <th>pubtime</th>\n",
       "      <th>medium_code</th>\n",
       "      <th>medium_name</th>\n",
       "      <th>rubric</th>\n",
       "      <th>language</th>\n",
       "      <th>char_count</th>\n",
       "      <th>head</th>\n",
       "      <th>subhead</th>\n",
       "      <th>content</th>\n",
       "    </tr>\n",
       "  </thead>\n",
       "  <tbody>\n",
       "    <tr>\n",
       "      <th>0</th>\n",
       "      <td>2020-06-18 00:00:00+02</td>\n",
       "      <td>TA</td>\n",
       "      <td>Tages-Anzeiger</td>\n",
       "      <td>Meinungen</td>\n",
       "      <td>German</td>\n",
       "      <td>3785</td>\n",
       "      <td>Mobbing im Zeichen des «Guten»</td>\n",
       "      <td>NaN</td>\n",
       "      <td>Aus Angst vor Reputationsschäden reagieren Fir...</td>\n",
       "    </tr>\n",
       "    <tr>\n",
       "      <th>1</th>\n",
       "      <td>2021-04-16 00:00:00+02</td>\n",
       "      <td>NZZ</td>\n",
       "      <td>Neue Zürcher Zeitung</td>\n",
       "      <td>Feuilleton</td>\n",
       "      <td>German</td>\n",
       "      <td>12305</td>\n",
       "      <td>«Foucault lachte über Pädophilie»</td>\n",
       "      <td>Hat Michel Foucault Buben missbraucht? Von die...</td>\n",
       "      <td>Herr Bruckner, was ging Ihnen durch den Kopf, ...</td>\n",
       "    </tr>\n",
       "    <tr>\n",
       "      <th>2</th>\n",
       "      <td>2017-05-06 00:00:00+02</td>\n",
       "      <td>TA</td>\n",
       "      <td>Tages-Anzeiger</td>\n",
       "      <td>Wochenende Kultur &amp; Gesellschaft</td>\n",
       "      <td>German</td>\n",
       "      <td>7883</td>\n",
       "      <td>Der Hass der Wohlgesinnten</td>\n",
       "      <td>NaN</td>\n",
       "      <td>Rate mal, wer zum Essen kommt: Die Horrorkomöd...</td>\n",
       "    </tr>\n",
       "  </tbody>\n",
       "</table>\n",
       "</div>"
      ],
      "text/plain": [
       "                  pubtime medium_code           medium_name  \\\n",
       "0  2020-06-18 00:00:00+02          TA        Tages-Anzeiger   \n",
       "1  2021-04-16 00:00:00+02         NZZ  Neue Zürcher Zeitung   \n",
       "2  2017-05-06 00:00:00+02          TA        Tages-Anzeiger   \n",
       "\n",
       "                             rubric language  char_count  \\\n",
       "0                         Meinungen   German        3785   \n",
       "1                        Feuilleton   German       12305   \n",
       "2  Wochenende Kultur & Gesellschaft   German        7883   \n",
       "\n",
       "                                head  \\\n",
       "0     Mobbing im Zeichen des «Guten»   \n",
       "1  «Foucault lachte über Pädophilie»   \n",
       "2         Der Hass der Wohlgesinnten   \n",
       "\n",
       "                                             subhead  \\\n",
       "0                                                NaN   \n",
       "1  Hat Michel Foucault Buben missbraucht? Von die...   \n",
       "2                                                NaN   \n",
       "\n",
       "                                             content  \n",
       "0  Aus Angst vor Reputationsschäden reagieren Fir...  \n",
       "1  Herr Bruckner, was ging Ihnen durch den Kopf, ...  \n",
       "2  Rate mal, wer zum Essen kommt: Die Horrorkomöd...  "
      ]
     },
     "execution_count": 128,
     "metadata": {},
     "output_type": "execute_result"
    }
   ],
   "source": [
    "# Recode variable `language` (column name) from `de` to `German`\n",
    "df_sub.replace(\n",
    "    {\n",
    "        \"language\": {\"de\": \"German\"},\n",
    "    },\n",
    "    inplace=True, # change directly in dataset\n",
    ")\n",
    "df_sub.head(3)"
   ]
  },
  {
   "cell_type": "markdown",
   "metadata": {
    "slideshow": {
     "slide_type": "slide"
    }
   },
   "source": [
    "## Search for relevant articles using regex"
   ]
  },
  {
   "cell_type": "code",
   "execution_count": 129,
   "metadata": {
    "editable": true,
    "slideshow": {
     "slide_type": ""
    },
    "tags": []
   },
   "outputs": [
    {
     "data": {
      "text/html": [
       "<div>\n",
       "<style scoped>\n",
       "    .dataframe tbody tr th:only-of-type {\n",
       "        vertical-align: middle;\n",
       "    }\n",
       "\n",
       "    .dataframe tbody tr th {\n",
       "        vertical-align: top;\n",
       "    }\n",
       "\n",
       "    .dataframe thead th {\n",
       "        text-align: right;\n",
       "    }\n",
       "</style>\n",
       "<table border=\"1\" class=\"dataframe\">\n",
       "  <thead>\n",
       "    <tr style=\"text-align: right;\">\n",
       "      <th></th>\n",
       "      <th>pubtime</th>\n",
       "      <th>medium_code</th>\n",
       "      <th>medium_name</th>\n",
       "      <th>rubric</th>\n",
       "      <th>language</th>\n",
       "      <th>char_count</th>\n",
       "      <th>head</th>\n",
       "      <th>subhead</th>\n",
       "      <th>content</th>\n",
       "    </tr>\n",
       "  </thead>\n",
       "  <tbody>\n",
       "    <tr>\n",
       "      <th>38</th>\n",
       "      <td>2024-07-06 00:00:00+02</td>\n",
       "      <td>NZZ</td>\n",
       "      <td>Neue Zürcher Zeitung</td>\n",
       "      <td>Wochenende</td>\n",
       "      <td>German</td>\n",
       "      <td>36472</td>\n",
       "      <td>Der Journalist für das Milliardenvolk</td>\n",
       "      <td>Indiens Fernsehnachrichten sind laut, chaotisc...</td>\n",
       "      <td>Von\\n(Text) und Rebecca Conway (Bilder)\\nArnab...</td>\n",
       "    </tr>\n",
       "    <tr>\n",
       "      <th>62</th>\n",
       "      <td>2022-10-12 00:00:00+02</td>\n",
       "      <td>NZZ</td>\n",
       "      <td>Neue Zürcher Zeitung</td>\n",
       "      <td>Zürich und Region</td>\n",
       "      <td>German</td>\n",
       "      <td>5977</td>\n",
       "      <td>Kritik am Diversity-Kurs des Schauspielhauses</td>\n",
       "      <td>Der Stadtrat muss über die wirtschaftlichen Ko...</td>\n",
       "      <td>Dem Zürcher Schauspielhaus laufen die Zuschaue...</td>\n",
       "    </tr>\n",
       "    <tr>\n",
       "      <th>66</th>\n",
       "      <td>2022-12-27 00:00:00+01</td>\n",
       "      <td>NZZ</td>\n",
       "      <td>Neue Zürcher Zeitung</td>\n",
       "      <td>Meinung und Debatte</td>\n",
       "      <td>German</td>\n",
       "      <td>9484</td>\n",
       "      <td>Böse alte Welt</td>\n",
       "      <td>«Woke» Westler werfen früheren Gesellschaften ...</td>\n",
       "      <td>Der Abenteuerfilm «The Aeronauts» aus dem Jahr...</td>\n",
       "    </tr>\n",
       "  </tbody>\n",
       "</table>\n",
       "</div>"
      ],
      "text/plain": [
       "                   pubtime medium_code           medium_name  \\\n",
       "38  2024-07-06 00:00:00+02         NZZ  Neue Zürcher Zeitung   \n",
       "62  2022-10-12 00:00:00+02         NZZ  Neue Zürcher Zeitung   \n",
       "66  2022-12-27 00:00:00+01         NZZ  Neue Zürcher Zeitung   \n",
       "\n",
       "                 rubric language  char_count  \\\n",
       "38           Wochenende   German       36472   \n",
       "62    Zürich und Region   German        5977   \n",
       "66  Meinung und Debatte   German        9484   \n",
       "\n",
       "                                             head  \\\n",
       "38          Der Journalist für das Milliardenvolk   \n",
       "62  Kritik am Diversity-Kurs des Schauspielhauses   \n",
       "66                                 Böse alte Welt   \n",
       "\n",
       "                                              subhead  \\\n",
       "38  Indiens Fernsehnachrichten sind laut, chaotisc...   \n",
       "62  Der Stadtrat muss über die wirtschaftlichen Ko...   \n",
       "66  «Woke» Westler werfen früheren Gesellschaften ...   \n",
       "\n",
       "                                              content  \n",
       "38  Von\\n(Text) und Rebecca Conway (Bilder)\\nArnab...  \n",
       "62  Dem Zürcher Schauspielhaus laufen die Zuschaue...  \n",
       "66  Der Abenteuerfilm «The Aeronauts» aus dem Jahr...  "
      ]
     },
     "execution_count": 129,
     "metadata": {},
     "output_type": "execute_result"
    }
   ],
   "source": [
    "# select all rows for which the regular expression matches the article content\n",
    "# the regex defines a pattern to match either `Theather` or `Aufführung`\n",
    "df_theater = df_sub[df_sub[\"content\"].str.contains(\"(?:Theater|Aufführung)\")]\n",
    "df_theater.head(3)"
   ]
  },
  {
   "cell_type": "markdown",
   "metadata": {
    "slideshow": {
     "slide_type": "slide"
    }
   },
   "source": [
    "## Show single articles using index"
   ]
  },
  {
   "cell_type": "code",
   "execution_count": 139,
   "metadata": {
    "editable": true,
    "slideshow": {
     "slide_type": "-"
    },
    "tags": []
   },
   "outputs": [
    {
     "name": "stdout",
     "output_type": "stream",
     "text": [
      "Der Abenteuerfilm «The Aeronauts» aus dem Jahr 2019 handelt von zwei Pionieren der Ballonfahrt. James Glaisher und Amelia Wren präsentieren einer staunenden und zahlenden Menschenmenge ihre Theorien über Atmosphäre und Wetterdaten, nebenbei brechen sie mit 23 000 Fuss Höhe einen Flugrekord. Das Experiment fand tatsächlich statt, 1862 über London. Eine blaue Plakette an seinem Wohnhaus erinnert an den Meteorologen und Astronomen Glaisher.\n",
      "Die Sache ist allerdings die: Glaisher zur Seite und im Ballonkorb stand keine Frau, sondern der Aeronaut Henry Tracey Coxwell. Tom Harper, der Drehbuchautor und Regisseur, hatte ihn durch eine junge, verwitwete Pilotin ersetzt. Harper wollte damit ein Zeichen setzen: Es habe damals durchaus Naturwissenschafterinnen gegeben, nicht jedoch in der Royal Society, der ehrwürdigen Akademie der (Natur-)Wissenschaften des Vereinigten Königreichs. Noch immer liege der Frauenanteil dort bei gerade einmal acht Prozent. Er, Harper, wolle aber, dass sein Film ein zeitgenössisches Publikum spiegle.\n",
      "Vergangenheit neu bewerten\n",
      "Weil nicht sein darf, was nun einmal so war, betritt hier also eine Frau die Leinwand. Man kann das künstlerische Freiheit des Autors nennen oder auch Irreführung des Publikums. Auf jeden Fall haben wir es zu tun mit einem neuen Auswuchs politischer Korrektheiten.\n",
      "«Presentism» nennt sich das Phänomen in den USA, es verbreitet sich vor allem unter – westlichen – Akademikern, Intellektuellen, Künstlern, selbsterklärten Kulturkritikern oder eben Regisseuren. Präsentismus, der kleine Cousin der Cancel-Culture (sozialer Bann wegen politisch inkorrekten Verhaltens), ist das Streben, die Vergangenheit nach heutigen Massstäben zu bewerten, historische Tatsachen zu beschönigen, zu negieren oder zu verteufeln – je nach Bedarf.\n",
      "Der eigentliche Zweck geht allerdings weiter: Es gilt, die eigene Rechtschaffenheit zu markieren. Seht her, ich bin anders als jene reaktionären, verklemmten, spiessigen Gestalten im Biedermeier, in der Weimarer Republik oder in der Adenauerzeit: Ich trenne Müll, ich konsumiere Haferdrink statt Kuhmilch, ich begleite meine Frau zur Schwangerschaftsgymnastik, ich habe schwarze und schwule Freunde! Macht ja nichts, dass auch ich, hätte ich in Biedermeier, Weimarer Republik oder unter Adenauer gelebt, vermutlich weder Müll getrennt noch offen schwule Freunde gehabt hätte.\n",
      "Mit Präsentismus lässt sich die Vergangenheit schlimmer oder gefälliger darstellen – Hauptsache, das gegenwärtige Wertesystem gerät dadurch ins Lot und man selber steht positiv da: auf- und abgeklärt, irgendwie woke, auf jeden Fall moralisch überlegen. Personen, Gesellschaften, Nationen, die vor 50, 100 oder 500 Jahren existierten, hätten es entsprechend besser wissen müssen. So kann man sich, was deren Denken und Handeln betrifft, was Menschenrechte oder Religionsfreiheit angeht, die Behandlung von Minderheiten, Frauen oder Nicht-Binären, fabelhaft entrüsten. Präsentismus ist eine sehr praktische Form von Selbstgerechtigkeit. Eine moralische Zeitmaschine befreit von Erbsünden und festigt zugleich die eigene Tugend.\n",
      "Nehmen wir die Sklaverei: Wer über Herz, Gewissen und Verstand verfügt, verachtet Besitz und Ausbeutung anderer als Verbrechen. Hier herrscht heutzutage Konsens. Es ändert aber nichts daran, dass die längste Zeit der Geschichte Sklavenhandel die Norm war, dass Menschen, sobald sie es sich leisten konnten, Sklaven hielten. Ob Sumerer, Ägypter, Griechen, Römer, Araber, Briten, Amerikaner, Afrikaner: Leibeigene Arbeiter und Diener waren selbstverständlicher Teil ihrer Gesellschaften, Bevölkerungen zu unterjochen, die logische Konsequenz von Eroberungskriegen.\n",
      "Sklaverei ist keine Erfindung toter weisser Männer. Sie wurde nicht nach Christoph Kolumbus oder mit Landung der «Mayflower» 1620 nach Nordamerika eingeschleppt, wie «kritische» Historiker immer wieder zu suggerieren versuchen. Sklaverei florierte lange vorher in Afrika, betrieben von Arabern und afrikanischen Stammesführern, die mit Menschenhandel gute Geschäfte machten. Noch heute herrschen in arabischen, afrikanischen und asiatischen Ländern Sklaverei-ähnliche Zustände.\n",
      "Ägyptern, Griechen oder Römern im Nachhinein vorzuwerfen, dass sie nach seinerzeit herrschenden Sitten und Werten lebten und handelten, weil diese inzwischen als Unsitten und Verbrechen gelten, führt zu nichts. Sinnvoll wäre es, anzuerkennen, dass der Mensch leider dazu neigt, seine Mitmenschen zu benachteiligen, zu unterdrücken, zu erobern, auszulöschen, und das universell. Dass er von dieser Neigung Gebrauch macht, sobald sich eine Gelegenheit bietet – siehe Putin. Dass es in der Geschichte zugleich darum geht, sich von solchen bösartigen Eigenschaften, von Thomas Hobbes’ «homo homini lupus» sukzessive zu emanzipieren.\n",
      "Das kann aber nur funktionieren, wenn wir zu unserer Geschichte stehen, sie ehrlich und objektiv einordnen, sie anerkennen und nicht verneinen oder verklären. Freuen wir uns darüber, dass Sklaverei heute, zumindest in Demokratien, so geächtet ist wie Krieg, Mord oder Raub. Dazu muss man in der Lage sein, hin und wieder aus Fehlern und Unrecht zu lernen. Man nennt das Fortschritt, Zivilisierung.\n",
      "Brille der Gegenwart\n",
      "Eine integre Geschichtsschreibung erfordert, Momente der Vergangenheit nicht durch die Brille der Gegenwart zu interpretieren, sondern «innerhalb der Welten unserer historischen Akteure», wie der amerikanische Historiker und Vorsitzende der American Historical Association, James H. Sweet, jüngst in einem Aufsatz schrieb. Historische Fragen gingen oft von aktuellen Anliegen aus, aber die Vergangenheit widerspreche der Gegenwart oft auf unvorhersehbare Weise. Zu viele Amerikaner hätten sich an die Vorstellung gewöhnt, dass die Geschichte eine Art Wundertüte sei, mit deren Hilfe sie ihre politischen Positionen formulieren könnten. Der Afrikanist Sweet nennt als Beispiel den aktuellen Kinohit «The Woman King», der im 19. Jahrhundert in Westafrika spielt. Dieser suggeriere, die Kriegerinnen von Dahomey und König Ghezo hätten den europäischen Sklavenhandel bekämpft. «In Wahrheit förderten sie ihn», so Sweet.\n",
      "Die historisch korrekte Darstellung der Gier und der Versklavung der Aschanti und Dahomey widerspreche jedoch offensichtlich den gegenwärtigen politischen Maximen. «Wenn wir die Geschichte verkürzen oder formen, um zeitgenössische politische Positionen zu rechtfertigen, statt über sie zu informieren, untergraben wir nicht nur die Disziplin, sondern bedrohen auch ihre Integrität.»\n",
      "Von «compensatory history», also Wiedergutmachungs-Geschichtsschreibung, sprach bereits in den 1990er Jahren der Harvard-Professor und Historiker-Doyen Arthur M. Schlesinger. Amerikanische Hochschulen predigen schon lange eine Abkehr von eurozentrischen oder elitistischen Lehrplänen, um den Leistungen lange vernachlässigter ethnischer Minderheiten gerecht zu werden und über wiederentdeckte Vorbilder deren Selbstbewusstsein zu fördern. Man könnte es auch Heilsgeschichte nennen. Dabei ersetzt man Historik durch Mythen und Wissenschaft durch Magie.\n",
      "Die Vergangenheit via Gegenwart umzudeuten, kann nur schiefgehen. Im harmlosen Fall wird verkitscht und bevormundet, im schlimmen Fall geklittert und getäuscht. Letzteres gehört zum Repertoire von Diktatoren und autoritären Regimen.\n",
      "Tim Harper hätte übrigens keine Aeronautin erdichten müssen, historische Heldinnen und Wissenschafterinnen gibt es ausreichend. Bekannte wie die Flugpionierin und Atlantik-Überfliegerin Amelia Earhart – oder lange vergessene wie die afroamerikanischen Mathematikerinnen Mary Jackson, Katherine Johnson und Dorothy Vaughan, die massgeblich zum Erfolg der Mercury- und Apollo-Programme der Nasa beitrugen.\n",
      "Weil die Welt aber nun einmal böse ist, gilt sie als unzumutbar für zarte, junge Gemüter, gehört sie verbannt und muss zumindest vor ihr gewarnt werden, so wie es in immer mehr Seminaren, Curricula oder auch an Theaterbühnen der Fall ist. Klassiker von Homer über Shakespeare bis Ibsen könnten auf dem Index landen, weil sich die Menschen darin die Köpfe einschlagen, Frauen benachteiligt werden oder Minderheiten unterdrückt. Nach dieser Logik müsste die Bibel verboten werden, von Anfang bis Ende.\n",
      "Es geht noch aberwitziger. Längst löst Alarm aus, was eben noch selbstverständlich zum Alltag gehörte. Das Schauen von «The Beatles: Get Back» erfolge auf eigene Gefahr, erklärte der Streaming-Sender Disney+ vergangenes Jahr im Vorspann; in der Doku – sie spielt 1969 – werde geraucht, sie beinhalte «Erwachsenenthemen» und «freizügige Sprache». Die ARD blendete kürzlich in ihrer Filmbiografie über die Feministin Alice Schwarzer («Alice») diese Worte ein: «Der folgende Film spielt in den 1960er und 1970er Jahren. Die in einigen Szenen verwendete Sprache kann aus heutiger Sicht diskriminierend wirken.»\n",
      "In solchen Momenten sehnt man sich zurück nach schwarz-weissen TV-Talkrunden, zu deren Grundausstattung Zigaretten, Wein und Diffamie gehörten. Man findet sie in Youtube-Archiven. Damals durften mündige Bürger ohne Handlungsanweisung fernsehen. Schön war die Zeit.\n",
      "Viola Schenz ist Journalistin und Autorin.\n",
      "Seht her, ich bin anders als jene reaktionären, spiessigen Gestalten in der Adenauerzeit: Ich trenne Müll, ich trinke Hafermilch, ich habe schwarze und schwule Freunde!\n",
      "Aus Mann wird Frau: Felicity Jones spielt neben Eddie Redmayne die Pilotin Amelia Wren in «The Aeronauts» (2019).\n",
      "Alamy\n"
     ]
    }
   ],
   "source": [
    "# show text of the article with the index number 66\n",
    "# the column with the text is called `content`\n",
    "print(df_sub.iloc[66][\"content\"])\n"
   ]
  },
  {
   "cell_type": "markdown",
   "metadata": {
    "slideshow": {
     "slide_type": "slide"
    }
   },
   "source": [
    "## Analyze the article length"
   ]
  },
  {
   "cell_type": "code",
   "execution_count": 133,
   "metadata": {
    "editable": true,
    "slideshow": {
     "slide_type": ""
    },
    "tags": []
   },
   "outputs": [
    {
     "data": {
      "text/html": [
       "<div>\n",
       "<style scoped>\n",
       "    .dataframe tbody tr th:only-of-type {\n",
       "        vertical-align: middle;\n",
       "    }\n",
       "\n",
       "    .dataframe tbody tr th {\n",
       "        vertical-align: top;\n",
       "    }\n",
       "\n",
       "    .dataframe thead th {\n",
       "        text-align: right;\n",
       "    }\n",
       "</style>\n",
       "<table border=\"1\" class=\"dataframe\">\n",
       "  <thead>\n",
       "    <tr style=\"text-align: right;\">\n",
       "      <th></th>\n",
       "      <th>pubtime</th>\n",
       "      <th>medium_code</th>\n",
       "      <th>medium_name</th>\n",
       "      <th>rubric</th>\n",
       "      <th>language</th>\n",
       "      <th>char_count</th>\n",
       "      <th>head</th>\n",
       "      <th>subhead</th>\n",
       "      <th>content</th>\n",
       "      <th>length</th>\n",
       "    </tr>\n",
       "  </thead>\n",
       "  <tbody>\n",
       "    <tr>\n",
       "      <th>0</th>\n",
       "      <td>2020-06-18 00:00:00+02</td>\n",
       "      <td>TA</td>\n",
       "      <td>Tages-Anzeiger</td>\n",
       "      <td>Meinungen</td>\n",
       "      <td>German</td>\n",
       "      <td>3785</td>\n",
       "      <td>Mobbing im Zeichen des «Guten»</td>\n",
       "      <td>NaN</td>\n",
       "      <td>Aus Angst vor Reputationsschäden reagieren Fir...</td>\n",
       "      <td>3608</td>\n",
       "    </tr>\n",
       "    <tr>\n",
       "      <th>1</th>\n",
       "      <td>2021-04-16 00:00:00+02</td>\n",
       "      <td>NZZ</td>\n",
       "      <td>Neue Zürcher Zeitung</td>\n",
       "      <td>Feuilleton</td>\n",
       "      <td>German</td>\n",
       "      <td>12305</td>\n",
       "      <td>«Foucault lachte über Pädophilie»</td>\n",
       "      <td>Hat Michel Foucault Buben missbraucht? Von die...</td>\n",
       "      <td>Herr Bruckner, was ging Ihnen durch den Kopf, ...</td>\n",
       "      <td>12056</td>\n",
       "    </tr>\n",
       "    <tr>\n",
       "      <th>2</th>\n",
       "      <td>2017-05-06 00:00:00+02</td>\n",
       "      <td>TA</td>\n",
       "      <td>Tages-Anzeiger</td>\n",
       "      <td>Wochenende Kultur &amp; Gesellschaft</td>\n",
       "      <td>German</td>\n",
       "      <td>7883</td>\n",
       "      <td>Der Hass der Wohlgesinnten</td>\n",
       "      <td>NaN</td>\n",
       "      <td>Rate mal, wer zum Essen kommt: Die Horrorkomöd...</td>\n",
       "      <td>7417</td>\n",
       "    </tr>\n",
       "  </tbody>\n",
       "</table>\n",
       "</div>"
      ],
      "text/plain": [
       "                  pubtime medium_code           medium_name  \\\n",
       "0  2020-06-18 00:00:00+02          TA        Tages-Anzeiger   \n",
       "1  2021-04-16 00:00:00+02         NZZ  Neue Zürcher Zeitung   \n",
       "2  2017-05-06 00:00:00+02          TA        Tages-Anzeiger   \n",
       "\n",
       "                             rubric language  char_count  \\\n",
       "0                         Meinungen   German        3785   \n",
       "1                        Feuilleton   German       12305   \n",
       "2  Wochenende Kultur & Gesellschaft   German        7883   \n",
       "\n",
       "                                head  \\\n",
       "0     Mobbing im Zeichen des «Guten»   \n",
       "1  «Foucault lachte über Pädophilie»   \n",
       "2         Der Hass der Wohlgesinnten   \n",
       "\n",
       "                                             subhead  \\\n",
       "0                                                NaN   \n",
       "1  Hat Michel Foucault Buben missbraucht? Von die...   \n",
       "2                                                NaN   \n",
       "\n",
       "                                             content  length  \n",
       "0  Aus Angst vor Reputationsschäden reagieren Fir...    3608  \n",
       "1  Herr Bruckner, was ging Ihnen durch den Kopf, ...   12056  \n",
       "2  Rate mal, wer zum Essen kommt: Die Horrorkomöd...    7417  "
      ]
     },
     "execution_count": 133,
     "metadata": {},
     "output_type": "execute_result"
    }
   ],
   "source": [
    "# Recompute article length rather than relying on the original `char_count`\n",
    "df_sub[\"length\"] = df_sub[\"content\"].str.len()\n",
    "df_sub.head(3)\n"
   ]
  },
  {
   "cell_type": "code",
   "execution_count": 134,
   "metadata": {
    "editable": true,
    "slideshow": {
     "slide_type": "slide"
    },
    "tags": []
   },
   "outputs": [
    {
     "data": {
      "text/plain": [
       "<Axes: title={'center': 'Distribution of article length'}, ylabel='Frequency'>"
      ]
     },
     "execution_count": 134,
     "metadata": {},
     "output_type": "execute_result"
    },
    {
     "data": {
      "image/png": "[encoded data removed]",
      "text/plain": [
       "<Figure size 640x480 with 1 Axes>"
      ]
     },
     "metadata": {},
     "output_type": "display_data"
    }
   ],
   "source": [
    "# visualize distribution of article length as histogram\n",
    "df_sub[\"length\"].plot(kind=\"hist\", bins=30, title=\"Distribution of article length\")\n"
   ]
  },
  {
   "cell_type": "markdown",
   "metadata": {
    "slideshow": {
     "slide_type": "slide"
    }
   },
   "source": [
    "## Analyze the publishing cycle\n",
    "\n",
    "- publishing frequency on wokeness over time\n",
    "- broken down by newspaper"
   ]
  },
  {
   "cell_type": "code",
   "execution_count": 135,
   "metadata": {
    "editable": true,
    "slideshow": {
     "slide_type": "-"
    },
    "tags": []
   },
   "outputs": [
    {
     "data": {
      "text/html": [
       "<div>\n",
       "<style scoped>\n",
       "    .dataframe tbody tr th:only-of-type {\n",
       "        vertical-align: middle;\n",
       "    }\n",
       "\n",
       "    .dataframe tbody tr th {\n",
       "        vertical-align: top;\n",
       "    }\n",
       "\n",
       "    .dataframe thead th {\n",
       "        text-align: right;\n",
       "    }\n",
       "</style>\n",
       "<table border=\"1\" class=\"dataframe\">\n",
       "  <thead>\n",
       "    <tr style=\"text-align: right;\">\n",
       "      <th></th>\n",
       "      <th>pubtime</th>\n",
       "      <th>medium_code</th>\n",
       "      <th>medium_name</th>\n",
       "      <th>rubric</th>\n",
       "      <th>language</th>\n",
       "      <th>char_count</th>\n",
       "      <th>head</th>\n",
       "      <th>subhead</th>\n",
       "      <th>content</th>\n",
       "      <th>length</th>\n",
       "      <th>year</th>\n",
       "    </tr>\n",
       "  </thead>\n",
       "  <tbody>\n",
       "    <tr>\n",
       "      <th>0</th>\n",
       "      <td>2020-06-17 22:00:00+00:00</td>\n",
       "      <td>TA</td>\n",
       "      <td>Tages-Anzeiger</td>\n",
       "      <td>Meinungen</td>\n",
       "      <td>German</td>\n",
       "      <td>3785</td>\n",
       "      <td>Mobbing im Zeichen des «Guten»</td>\n",
       "      <td>NaN</td>\n",
       "      <td>Aus Angst vor Reputationsschäden reagieren Fir...</td>\n",
       "      <td>3608</td>\n",
       "      <td>2020</td>\n",
       "    </tr>\n",
       "    <tr>\n",
       "      <th>1</th>\n",
       "      <td>2021-04-15 22:00:00+00:00</td>\n",
       "      <td>NZZ</td>\n",
       "      <td>Neue Zürcher Zeitung</td>\n",
       "      <td>Feuilleton</td>\n",
       "      <td>German</td>\n",
       "      <td>12305</td>\n",
       "      <td>«Foucault lachte über Pädophilie»</td>\n",
       "      <td>Hat Michel Foucault Buben missbraucht? Von die...</td>\n",
       "      <td>Herr Bruckner, was ging Ihnen durch den Kopf, ...</td>\n",
       "      <td>12056</td>\n",
       "      <td>2021</td>\n",
       "    </tr>\n",
       "    <tr>\n",
       "      <th>2</th>\n",
       "      <td>2017-05-05 22:00:00+00:00</td>\n",
       "      <td>TA</td>\n",
       "      <td>Tages-Anzeiger</td>\n",
       "      <td>Wochenende Kultur &amp; Gesellschaft</td>\n",
       "      <td>German</td>\n",
       "      <td>7883</td>\n",
       "      <td>Der Hass der Wohlgesinnten</td>\n",
       "      <td>NaN</td>\n",
       "      <td>Rate mal, wer zum Essen kommt: Die Horrorkomöd...</td>\n",
       "      <td>7417</td>\n",
       "      <td>2017</td>\n",
       "    </tr>\n",
       "  </tbody>\n",
       "</table>\n",
       "</div>"
      ],
      "text/plain": [
       "                    pubtime medium_code           medium_name  \\\n",
       "0 2020-06-17 22:00:00+00:00          TA        Tages-Anzeiger   \n",
       "1 2021-04-15 22:00:00+00:00         NZZ  Neue Zürcher Zeitung   \n",
       "2 2017-05-05 22:00:00+00:00          TA        Tages-Anzeiger   \n",
       "\n",
       "                             rubric language  char_count  \\\n",
       "0                         Meinungen   German        3785   \n",
       "1                        Feuilleton   German       12305   \n",
       "2  Wochenende Kultur & Gesellschaft   German        7883   \n",
       "\n",
       "                                head  \\\n",
       "0     Mobbing im Zeichen des «Guten»   \n",
       "1  «Foucault lachte über Pädophilie»   \n",
       "2         Der Hass der Wohlgesinnten   \n",
       "\n",
       "                                             subhead  \\\n",
       "0                                                NaN   \n",
       "1  Hat Michel Foucault Buben missbraucht? Von die...   \n",
       "2                                                NaN   \n",
       "\n",
       "                                             content  length  year  \n",
       "0  Aus Angst vor Reputationsschäden reagieren Fir...    3608  2020  \n",
       "1  Herr Bruckner, was ging Ihnen durch den Kopf, ...   12056  2021  \n",
       "2  Rate mal, wer zum Essen kommt: Die Horrorkomöd...    7417  2017  "
      ]
     },
     "execution_count": 135,
     "metadata": {},
     "output_type": "execute_result"
    }
   ],
   "source": [
    "# Parse the `pubtime` as datetype (accounting for timezones)\n",
    "df_sub[\"pubtime\"] = pd.to_datetime(df_sub[\"pubtime\"], utc=True)\n",
    "\n",
    "# create new column with publication year only\n",
    "df_sub[\"year\"] = df_sub[\"pubtime\"].dt.year\n",
    "df_sub.head(3)\n"
   ]
  },
  {
   "cell_type": "code",
   "execution_count": 136,
   "metadata": {
    "editable": true,
    "slideshow": {
     "slide_type": "slide"
    },
    "tags": []
   },
   "outputs": [
    {
     "data": {
      "text/html": [
       "<div>\n",
       "<style scoped>\n",
       "    .dataframe tbody tr th:only-of-type {\n",
       "        vertical-align: middle;\n",
       "    }\n",
       "\n",
       "    .dataframe tbody tr th {\n",
       "        vertical-align: top;\n",
       "    }\n",
       "\n",
       "    .dataframe thead th {\n",
       "        text-align: right;\n",
       "    }\n",
       "</style>\n",
       "<table border=\"1\" class=\"dataframe\">\n",
       "  <thead>\n",
       "    <tr style=\"text-align: right;\">\n",
       "      <th></th>\n",
       "      <th>year</th>\n",
       "      <th>medium_name</th>\n",
       "      <th>count</th>\n",
       "    </tr>\n",
       "  </thead>\n",
       "  <tbody>\n",
       "    <tr>\n",
       "      <th>0</th>\n",
       "      <td>2000</td>\n",
       "      <td>Tages-Anzeiger</td>\n",
       "      <td>1</td>\n",
       "    </tr>\n",
       "    <tr>\n",
       "      <th>1</th>\n",
       "      <td>2001</td>\n",
       "      <td>Neue Zürcher Zeitung</td>\n",
       "      <td>1</td>\n",
       "    </tr>\n",
       "    <tr>\n",
       "      <th>2</th>\n",
       "      <td>2001</td>\n",
       "      <td>Tages-Anzeiger</td>\n",
       "      <td>2</td>\n",
       "    </tr>\n",
       "    <tr>\n",
       "      <th>3</th>\n",
       "      <td>2004</td>\n",
       "      <td>Neue Zürcher Zeitung</td>\n",
       "      <td>1</td>\n",
       "    </tr>\n",
       "    <tr>\n",
       "      <th>4</th>\n",
       "      <td>2004</td>\n",
       "      <td>Tages-Anzeiger</td>\n",
       "      <td>1</td>\n",
       "    </tr>\n",
       "    <tr>\n",
       "      <th>5</th>\n",
       "      <td>2007</td>\n",
       "      <td>Tages-Anzeiger</td>\n",
       "      <td>1</td>\n",
       "    </tr>\n",
       "    <tr>\n",
       "      <th>6</th>\n",
       "      <td>2013</td>\n",
       "      <td>Tages-Anzeiger</td>\n",
       "      <td>1</td>\n",
       "    </tr>\n",
       "    <tr>\n",
       "      <th>7</th>\n",
       "      <td>2017</td>\n",
       "      <td>Tages-Anzeiger</td>\n",
       "      <td>2</td>\n",
       "    </tr>\n",
       "    <tr>\n",
       "      <th>8</th>\n",
       "      <td>2018</td>\n",
       "      <td>Neue Zürcher Zeitung</td>\n",
       "      <td>1</td>\n",
       "    </tr>\n",
       "    <tr>\n",
       "      <th>9</th>\n",
       "      <td>2019</td>\n",
       "      <td>Neue Zürcher Zeitung</td>\n",
       "      <td>3</td>\n",
       "    </tr>\n",
       "    <tr>\n",
       "      <th>10</th>\n",
       "      <td>2019</td>\n",
       "      <td>Tages-Anzeiger</td>\n",
       "      <td>2</td>\n",
       "    </tr>\n",
       "    <tr>\n",
       "      <th>11</th>\n",
       "      <td>2020</td>\n",
       "      <td>Neue Zürcher Zeitung</td>\n",
       "      <td>9</td>\n",
       "    </tr>\n",
       "    <tr>\n",
       "      <th>12</th>\n",
       "      <td>2020</td>\n",
       "      <td>Tages-Anzeiger</td>\n",
       "      <td>3</td>\n",
       "    </tr>\n",
       "    <tr>\n",
       "      <th>13</th>\n",
       "      <td>2021</td>\n",
       "      <td>Neue Zürcher Zeitung</td>\n",
       "      <td>29</td>\n",
       "    </tr>\n",
       "    <tr>\n",
       "      <th>14</th>\n",
       "      <td>2021</td>\n",
       "      <td>Tages-Anzeiger</td>\n",
       "      <td>10</td>\n",
       "    </tr>\n",
       "    <tr>\n",
       "      <th>15</th>\n",
       "      <td>2022</td>\n",
       "      <td>Neue Zürcher Zeitung</td>\n",
       "      <td>59</td>\n",
       "    </tr>\n",
       "    <tr>\n",
       "      <th>16</th>\n",
       "      <td>2022</td>\n",
       "      <td>Tages-Anzeiger</td>\n",
       "      <td>26</td>\n",
       "    </tr>\n",
       "    <tr>\n",
       "      <th>17</th>\n",
       "      <td>2023</td>\n",
       "      <td>Neue Zürcher Zeitung</td>\n",
       "      <td>80</td>\n",
       "    </tr>\n",
       "    <tr>\n",
       "      <th>18</th>\n",
       "      <td>2023</td>\n",
       "      <td>Tages-Anzeiger</td>\n",
       "      <td>34</td>\n",
       "    </tr>\n",
       "    <tr>\n",
       "      <th>19</th>\n",
       "      <td>2024</td>\n",
       "      <td>Neue Zürcher Zeitung</td>\n",
       "      <td>88</td>\n",
       "    </tr>\n",
       "    <tr>\n",
       "      <th>20</th>\n",
       "      <td>2024</td>\n",
       "      <td>Tages-Anzeiger</td>\n",
       "      <td>35</td>\n",
       "    </tr>\n",
       "    <tr>\n",
       "      <th>21</th>\n",
       "      <td>2025</td>\n",
       "      <td>Neue Zürcher Zeitung</td>\n",
       "      <td>29</td>\n",
       "    </tr>\n",
       "    <tr>\n",
       "      <th>22</th>\n",
       "      <td>2025</td>\n",
       "      <td>Tages-Anzeiger</td>\n",
       "      <td>15</td>\n",
       "    </tr>\n",
       "  </tbody>\n",
       "</table>\n",
       "</div>"
      ],
      "text/plain": [
       "    year           medium_name  count\n",
       "0   2000        Tages-Anzeiger      1\n",
       "1   2001  Neue Zürcher Zeitung      1\n",
       "2   2001        Tages-Anzeiger      2\n",
       "3   2004  Neue Zürcher Zeitung      1\n",
       "4   2004        Tages-Anzeiger      1\n",
       "5   2007        Tages-Anzeiger      1\n",
       "6   2013        Tages-Anzeiger      1\n",
       "7   2017        Tages-Anzeiger      2\n",
       "8   2018  Neue Zürcher Zeitung      1\n",
       "9   2019  Neue Zürcher Zeitung      3\n",
       "10  2019        Tages-Anzeiger      2\n",
       "11  2020  Neue Zürcher Zeitung      9\n",
       "12  2020        Tages-Anzeiger      3\n",
       "13  2021  Neue Zürcher Zeitung     29\n",
       "14  2021        Tages-Anzeiger     10\n",
       "15  2022  Neue Zürcher Zeitung     59\n",
       "16  2022        Tages-Anzeiger     26\n",
       "17  2023  Neue Zürcher Zeitung     80\n",
       "18  2023        Tages-Anzeiger     34\n",
       "19  2024  Neue Zürcher Zeitung     88\n",
       "20  2024        Tages-Anzeiger     35\n",
       "21  2025  Neue Zürcher Zeitung     29\n",
       "22  2025        Tages-Anzeiger     15"
      ]
     },
     "execution_count": 136,
     "metadata": {},
     "output_type": "execute_result"
    }
   ],
   "source": [
    "# Group data by year and newspaper and count the respective articles\n",
    "docs_per_year = (\n",
    "    df_sub.groupby([\"year\", \"medium_name\"])\n",
    "    .agg({\"content\": \"count\"})\n",
    "    .reset_index()\n",
    "    .rename(columns={\"content\": \"count\"})\n",
    ")\n",
    "docs_per_year\n"
   ]
  },
  {
   "cell_type": "code",
   "execution_count": 137,
   "metadata": {
    "editable": true,
    "slideshow": {
     "slide_type": "slide"
    },
    "tags": []
   },
   "outputs": [
    {
     "data": {
      "image/png": "[encoded data removed]"
     },
     "metadata": {
      "image/png": {
       "height": 480,
       "width": 640
      }
     },
     "output_type": "display_data"
    }
   ],
   "source": [
    "# visualize the number of articles per year and newspaper\n",
    "# for more complex figures, we use plotnine instead of standard visualization of pandas\n",
    "(\n",
    "    pn.ggplot(docs_per_year, pn.aes(x=\"year\", y=\"count\", color=\"medium_name\"))\n",
    "    + pn.geom_line()\n",
    "    + pn.labs(title=\"Number of articles per year\", x=\"Year\", y=\"absolute frequency\",  color=\"Publisher\")\n",
    "    + pn.theme_minimal()\n",
    ")\n"
   ]
  },
  {
   "cell_type": "markdown",
   "metadata": {
    "slideshow": {
     "slide_type": "slide"
    }
   },
   "source": [
    "## Key aspects of publishing on wokeness\n",
    "- wokeness is a recent topic in Swiss Media\n",
    "  - starts in 2013\n",
    "  - skyrockets after 2020 \n",
    "- NZZ becomes obsessed with the topic in 2022\n",
    "  - \"woke plays\" at Schauspielhaus Zürich\n",
    "  - US politics"
   ]
  },
  {
   "cell_type": "markdown",
   "metadata": {
    "slideshow": {
     "slide_type": "slide"
    }
   },
   "source": [
    "## Export the modified dataset as CSV"
   ]
  },
  {
   "cell_type": "code",
   "execution_count": null,
   "metadata": {
    "slideshow": {
     "slide_type": "-"
    }
   },
   "outputs": [],
   "source": [
    "# Save dataset as CSV file without an index\n",
    "df_sub.to_csv(\"extended_swiss_media_wokeness.tsv\", index=False)\n"
   ]
  },
  {
   "cell_type": "markdown",
   "metadata": {
    "slideshow": {
     "slide_type": "slide"
    }
   },
   "source": [
    "# In-class: Exercises I\n",
    "\n",
    "1. Execute the code in this Jupyter Notebook by clicking \"Run All\". Check the code and the outputs below each cell.\n",
    "2. Combine a few words of your interest into a singular regular expression and search for all occurrences.\n",
    "3. Use the `id` of the row to look at the articles content.\n",
    "4. Rename the column from `medium_name` to `publisher`.\n"
   ]
  },
  {
   "cell_type": "markdown",
   "metadata": {
    "slideshow": {
     "slide_type": "slide"
    }
   },
   "source": [
    "# In-class: Exercises II\n",
    "1. Visualize the article's rubric over time instead of the newspaper\n",
    "2. Some articles have still some meta information in their text. Remove the last line of articles if it doesn't end like a regular sentence  (e.g. `Gaëtan Bally / Keystone`). Use regular expressions.\n"
   ]
  },
  {
   "cell_type": "markdown",
   "metadata": {
    "editable": true,
    "slideshow": {
     "slide_type": "slide"
    },
    "tags": []
   },
   "source": [
    "# In-class: Exercises III\n",
    "1. Choose a topic of your interest and curate your own dataset on Swissdox by using relevant keywords\n",
    "2. How do different keywords infuence your results? Try to make your results more robust by combining keywords with bool operators (`AND`, `OR`, `NOT`). See also the [manual](https://liri.linguistik.uzh.ch/wiki/langtech/swissdox/query)."
   ]
  },
  {
   "cell_type": "markdown",
   "metadata": {
    "editable": true,
    "slideshow": {
     "slide_type": "slide"
    },
    "tags": []
   },
   "source": [
    "# Resources\n",
    "Learn more about data analysis using Pandas\n",
    "- [Explaratory data analysis on UN General Debate](https://www.oreilly.com/library/view/blueprints-for-text/9781492074076/ch01.html)\n",
    "- [Introduction to Pandas for Social Scientists](https://melaniewalsh.github.io/Intro-Cultural-Analytics/03-Data-Analysis/00-Data-Analysis.html)"
   ]
  },
  {
   "cell_type": "markdown",
   "metadata": {
    "editable": true,
    "slideshow": {
     "slide_type": "slide"
    },
    "tags": []
   },
   "source": [
    "# Solutions"
   ]
  },
  {
   "cell_type": "code",
   "execution_count": null,
   "metadata": {
    "editable": true,
    "slideshow": {
     "slide_type": "slide"
    },
    "tags": []
   },
   "outputs": [],
   "source": [
    "# task II.1\n",
    "# visualize the number of articles per year and rubric\n",
    "docs_per_year = (\n",
    "    df_sub.groupby([\"year\", \"rubric\"])\n",
    "    .agg({\"content\": \"count\"})\n",
    "    .reset_index()\n",
    "    .rename(columns={\"content\": \"count\"})\n",
    ")\n",
    "\n",
    "(\n",
    "    pn.ggplot(docs_per_year, pn.aes(x=\"year\", y=\"count\", color=\"rubric\"))\n",
    "    + pn.geom_line()\n",
    "    + pn.labs(title=\"Number of articles per year\", x=\"Year\", y=\"absolute frequency\")\n",
    "    + pn.theme_minimal()\n",
    "    + pn.theme(figure_size=(10,5)) # increase figure size because of the big legend\n",
    ")\n"
   ]
  }
 ],
 "metadata": {
  "celltoolbar": "Slideshow",
  "kernelspec": {
   "display_name": "Python 3 (ipykernel)",
   "language": "python",
   "name": "python3"
  },
  "language_info": {
   "codemirror_mode": {
    "name": "ipython",
    "version": 3
   },
   "file_extension": ".py",
   "mimetype": "text/x-python",
   "name": "python",
   "nbconvert_exporter": "python",
   "pygments_lexer": "ipython3",
   "version": "3.12.8"
  }
 },
 "nbformat": 4,
 "nbformat_minor": 4
}
